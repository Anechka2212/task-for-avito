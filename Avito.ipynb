{
  "nbformat": 4,
  "nbformat_minor": 0,
  "metadata": {
    "colab": {
      "name": "Avito.ipynb",
      "version": "0.3.2",
      "provenance": [],
      "collapsed_sections": [],
      "include_colab_link": true
    },
    "kernelspec": {
      "name": "python3",
      "display_name": "Python 3"
    }
  },
  "cells": [
    {
      "cell_type": "markdown",
      "metadata": {
        "id": "view-in-github",
        "colab_type": "text"
      },
      "source": [
        "<a href=\"https://colab.research.google.com/github/Anechka2212/task-for-avito/blob/master/Avito.ipynb\" target=\"_parent\"><img src=\"https://colab.research.google.com/assets/colab-badge.svg\" alt=\"Open In Colab\"/></a>"
      ]
    },
    {
      "metadata": {
        "id": "JaBzPfFLNqZv",
        "colab_type": "text"
      },
      "cell_type": "markdown",
      "source": [
        "Импорт необходимых для работы библиотек"
      ]
    },
    {
      "metadata": {
        "id": "N6N_i-tbNupA",
        "colab_type": "code",
        "colab": {}
      },
      "cell_type": "code",
      "source": [
        "import requests\n",
        "import bs4\n",
        "import scipy as sc\n",
        "import numpy as np\n",
        "import pandas as pd\n",
        "import nltk\n",
        "import glob\n",
        "\n",
        "from google.colab import drive\n",
        "\n",
        "from sklearn.feature_extraction.text import CountVectorizer, TfidfVectorizer\n",
        "from sklearn.neighbors import KNeighborsClassifier\n",
        "from sklearn.linear_model import LogisticRegression\n",
        "from sklearn.tree import DecisionTreeClassifier\n",
        "from sklearn.svm import LinearSVC\n",
        "from sklearn.pipeline import Pipeline\n",
        "from sklearn.model_selection import cross_val_score\n",
        "\n",
        "from typing import Dict, Tuple\n",
        "from sklearn import preprocessing\n",
        "from sklearn.preprocessing import MinMaxScaler\n",
        "from scipy import sparse"
      ],
      "execution_count": 0,
      "outputs": []
    },
    {
      "metadata": {
        "id": "C6gHmTc3N1xX",
        "colab_type": "text"
      },
      "cell_type": "markdown",
      "source": [
        "Монтирование гугл диска "
      ]
    },
    {
      "metadata": {
        "id": "VCwdWz1uODZl",
        "colab_type": "code",
        "outputId": "ede675c5-e842-42f9-d42b-633463df66d9",
        "colab": {
          "base_uri": "https://localhost:8080/",
          "height": 34
        }
      },
      "cell_type": "code",
      "source": [
        "drive.mount(\"/content/gdrive\", force_remount=True)"
      ],
      "execution_count": 2,
      "outputs": [
        {
          "output_type": "stream",
          "text": [
            "Mounted at /content/gdrive\n"
          ],
          "name": "stdout"
        }
      ]
    },
    {
      "metadata": {
        "id": "mbEFCwbnOZl9",
        "colab_type": "text"
      },
      "cell_type": "markdown",
      "source": [
        "Загрузка данных с гугл диска"
      ]
    },
    {
      "metadata": {
        "id": "IdVfcfDlOdcN",
        "colab_type": "code",
        "colab": {}
      },
      "cell_type": "code",
      "source": [
        "train_data = pd.read_csv('/content/gdrive/My Drive/train.csv', sep=\",\")"
      ],
      "execution_count": 0,
      "outputs": []
    },
    {
      "metadata": {
        "id": "gJRAFOJUO9-_",
        "colab_type": "code",
        "outputId": "9867db3a-6dac-4579-af84-33864f1b0c58",
        "colab": {
          "base_uri": "https://localhost:8080/",
          "height": 494
        }
      },
      "cell_type": "code",
      "source": [
        "train_data.head(10)"
      ],
      "execution_count": 0,
      "outputs": [
        {
          "output_type": "execute_result",
          "data": {
            "text/html": [
              "<div>\n",
              "<style scoped>\n",
              "    .dataframe tbody tr th:only-of-type {\n",
              "        vertical-align: middle;\n",
              "    }\n",
              "\n",
              "    .dataframe tbody tr th {\n",
              "        vertical-align: top;\n",
              "    }\n",
              "\n",
              "    .dataframe thead th {\n",
              "        text-align: right;\n",
              "    }\n",
              "</style>\n",
              "<table border=\"1\" class=\"dataframe\">\n",
              "  <thead>\n",
              "    <tr style=\"text-align: right;\">\n",
              "      <th></th>\n",
              "      <th>item_id</th>\n",
              "      <th>title</th>\n",
              "      <th>description</th>\n",
              "      <th>price</th>\n",
              "      <th>category_id</th>\n",
              "    </tr>\n",
              "  </thead>\n",
              "  <tbody>\n",
              "    <tr>\n",
              "      <th>0</th>\n",
              "      <td>0</td>\n",
              "      <td>Картина</td>\n",
              "      <td>Гобелен. Размеры 139х84см.</td>\n",
              "      <td>1000.0</td>\n",
              "      <td>19</td>\n",
              "    </tr>\n",
              "    <tr>\n",
              "      <th>1</th>\n",
              "      <td>1</td>\n",
              "      <td>Стулья из прессованной кожи</td>\n",
              "      <td>Продам недорого 4 стула из светлой прессованно...</td>\n",
              "      <td>1250.0</td>\n",
              "      <td>22</td>\n",
              "    </tr>\n",
              "    <tr>\n",
              "      <th>2</th>\n",
              "      <td>2</td>\n",
              "      <td>Домашняя мини баня</td>\n",
              "      <td>Мини баня МБ-1(мини сауна), предназначена для ...</td>\n",
              "      <td>13000.0</td>\n",
              "      <td>37</td>\n",
              "    </tr>\n",
              "    <tr>\n",
              "      <th>3</th>\n",
              "      <td>3</td>\n",
              "      <td>Эксклюзивная коллекция книг \"Трансаэро\" + подарок</td>\n",
              "      <td>Продам эксклюзивную коллекцию книг, выпущенную...</td>\n",
              "      <td>4000.0</td>\n",
              "      <td>43</td>\n",
              "    </tr>\n",
              "    <tr>\n",
              "      <th>4</th>\n",
              "      <td>4</td>\n",
              "      <td>Ноутбук aser</td>\n",
              "      <td>Продаётся ноутбук ACER e5-511C2TA. Куплен в ко...</td>\n",
              "      <td>19000.0</td>\n",
              "      <td>1</td>\n",
              "    </tr>\n",
              "    <tr>\n",
              "      <th>5</th>\n",
              "      <td>5</td>\n",
              "      <td>Бас гитара invasion bg110</td>\n",
              "      <td>Состояние хорошее. Имеется теплый чехол .</td>\n",
              "      <td>3999.0</td>\n",
              "      <td>50</td>\n",
              "    </tr>\n",
              "    <tr>\n",
              "      <th>6</th>\n",
              "      <td>6</td>\n",
              "      <td>Смесь \"Грудничок\" г. Зеленодольск</td>\n",
              "      <td>Смесь молочная адаптированная ультрапастеризов...</td>\n",
              "      <td>15.0</td>\n",
              "      <td>41</td>\n",
              "    </tr>\n",
              "    <tr>\n",
              "      <th>7</th>\n",
              "      <td>7</td>\n",
              "      <td>G-shock</td>\n",
              "      <td>Часы абсолютно новые! с коробкой. Часы   Китай...</td>\n",
              "      <td>2500.0</td>\n",
              "      <td>36</td>\n",
              "    </tr>\n",
              "    <tr>\n",
              "      <th>8</th>\n",
              "      <td>8</td>\n",
              "      <td>Санатории Белоруссии. - \"Лепельский военный\"</td>\n",
              "      <td>Санатории Белоруссии! -  «Лепельский военный» ...</td>\n",
              "      <td>1090.0</td>\n",
              "      <td>48</td>\n",
              "    </tr>\n",
              "    <tr>\n",
              "      <th>9</th>\n",
              "      <td>9</td>\n",
              "      <td>Фотохолст</td>\n",
              "      <td>Фотохолст на подрамнике. 36х58см. Галерейная н...</td>\n",
              "      <td>1250.0</td>\n",
              "      <td>19</td>\n",
              "    </tr>\n",
              "  </tbody>\n",
              "</table>\n",
              "</div>"
            ],
            "text/plain": [
              "   item_id                                              title  \\\n",
              "0        0                                            Картина   \n",
              "1        1                        Стулья из прессованной кожи   \n",
              "2        2                                 Домашняя мини баня   \n",
              "3        3  Эксклюзивная коллекция книг \"Трансаэро\" + подарок   \n",
              "4        4                                       Ноутбук aser   \n",
              "5        5                          Бас гитара invasion bg110   \n",
              "6        6                  Смесь \"Грудничок\" г. Зеленодольск   \n",
              "7        7                                            G-shock   \n",
              "8        8       Санатории Белоруссии. - \"Лепельский военный\"   \n",
              "9        9                                          Фотохолст   \n",
              "\n",
              "                                         description    price  category_id  \n",
              "0                         Гобелен. Размеры 139х84см.   1000.0           19  \n",
              "1  Продам недорого 4 стула из светлой прессованно...   1250.0           22  \n",
              "2  Мини баня МБ-1(мини сауна), предназначена для ...  13000.0           37  \n",
              "3  Продам эксклюзивную коллекцию книг, выпущенную...   4000.0           43  \n",
              "4  Продаётся ноутбук ACER e5-511C2TA. Куплен в ко...  19000.0            1  \n",
              "5          Состояние хорошее. Имеется теплый чехол .   3999.0           50  \n",
              "6  Смесь молочная адаптированная ультрапастеризов...     15.0           41  \n",
              "7  Часы абсолютно новые! с коробкой. Часы   Китай...   2500.0           36  \n",
              "8  Санатории Белоруссии! -  «Лепельский военный» ...   1090.0           48  \n",
              "9  Фотохолст на подрамнике. 36х58см. Галерейная н...   1250.0           19  "
            ]
          },
          "metadata": {
            "tags": []
          },
          "execution_count": 33
        }
      ]
    },
    {
      "metadata": {
        "id": "p1EZnNsGPUHr",
        "colab_type": "code",
        "outputId": "1fe15059-87bc-4990-909d-e0f7c539add5",
        "colab": {
          "base_uri": "https://localhost:8080/",
          "height": 34
        }
      },
      "cell_type": "code",
      "source": [
        "train_data.shape"
      ],
      "execution_count": 0,
      "outputs": [
        {
          "output_type": "execute_result",
          "data": {
            "text/plain": [
              "(489517, 5)"
            ]
          },
          "metadata": {
            "tags": []
          },
          "execution_count": 34
        }
      ]
    },
    {
      "metadata": {
        "id": "9B4txlYq0mik",
        "colab_type": "code",
        "outputId": "684a8ced-dab5-47b7-f001-7ff5e9a48424",
        "colab": {
          "base_uri": "https://localhost:8080/",
          "height": 122
        }
      },
      "cell_type": "code",
      "source": [
        "train_data.isnull().sum()"
      ],
      "execution_count": 0,
      "outputs": [
        {
          "output_type": "execute_result",
          "data": {
            "text/plain": [
              "item_id        0\n",
              "title          0\n",
              "description    0\n",
              "price          0\n",
              "category_id    0\n",
              "dtype: int64"
            ]
          },
          "metadata": {
            "tags": []
          },
          "execution_count": 35
        }
      ]
    },
    {
      "metadata": {
        "id": "kDPM9HVU0S5v",
        "colab_type": "code",
        "outputId": "2037d14c-649f-41dc-acbe-f1a6fac34a20",
        "colab": {
          "base_uri": "https://localhost:8080/",
          "height": 409
        }
      },
      "cell_type": "code",
      "source": [
        "test_data = pd.read_csv('/content/gdrive/My Drive/test.csv', sep=\",\")\n",
        "test_data.head(10)"
      ],
      "execution_count": 4,
      "outputs": [
        {
          "output_type": "execute_result",
          "data": {
            "text/html": [
              "<div>\n",
              "<style scoped>\n",
              "    .dataframe tbody tr th:only-of-type {\n",
              "        vertical-align: middle;\n",
              "    }\n",
              "\n",
              "    .dataframe tbody tr th {\n",
              "        vertical-align: top;\n",
              "    }\n",
              "\n",
              "    .dataframe thead th {\n",
              "        text-align: right;\n",
              "    }\n",
              "</style>\n",
              "<table border=\"1\" class=\"dataframe\">\n",
              "  <thead>\n",
              "    <tr style=\"text-align: right;\">\n",
              "      <th></th>\n",
              "      <th>item_id</th>\n",
              "      <th>title</th>\n",
              "      <th>description</th>\n",
              "      <th>price</th>\n",
              "    </tr>\n",
              "  </thead>\n",
              "  <tbody>\n",
              "    <tr>\n",
              "      <th>0</th>\n",
              "      <td>489517</td>\n",
              "      <td>Стоик журнальный сталь</td>\n",
              "      <td>продам журнальный столик изготавливаю столы из...</td>\n",
              "      <td>10000.0</td>\n",
              "    </tr>\n",
              "    <tr>\n",
              "      <th>1</th>\n",
              "      <td>489518</td>\n",
              "      <td>iPhone 5 64Gb</td>\n",
              "      <td>Телефон в хорошем состоянии. Комплект, гаранти...</td>\n",
              "      <td>12500.0</td>\n",
              "    </tr>\n",
              "    <tr>\n",
              "      <th>2</th>\n",
              "      <td>489519</td>\n",
              "      <td>Утеплитель</td>\n",
              "      <td>ТЕПЛОПЕЛЕН-ЛИДЕР ТЕПЛА!!! Толщина утеплителя :...</td>\n",
              "      <td>250.0</td>\n",
              "    </tr>\n",
              "    <tr>\n",
              "      <th>3</th>\n",
              "      <td>489520</td>\n",
              "      <td>Пальто демисезонное</td>\n",
              "      <td>Продам пальто женское (букле) в отличном состо...</td>\n",
              "      <td>1700.0</td>\n",
              "    </tr>\n",
              "    <tr>\n",
              "      <th>4</th>\n",
              "      <td>489521</td>\n",
              "      <td>Samsung syncmaster T200N</td>\n",
              "      <td>Условно рабочий, проблема в панели настройки м...</td>\n",
              "      <td>1000.0</td>\n",
              "    </tr>\n",
              "    <tr>\n",
              "      <th>5</th>\n",
              "      <td>489522</td>\n",
              "      <td>Дверь Profil Doors Х21</td>\n",
              "      <td>Дверь межкомнатная ProfilDoors 21Х. Серия Х пр...</td>\n",
              "      <td>6600.0</td>\n",
              "    </tr>\n",
              "    <tr>\n",
              "      <th>6</th>\n",
              "      <td>489523</td>\n",
              "      <td>Новый Cort CR100 в отличном состоянии, с коробкой</td>\n",
              "      <td>Доброго времени суток, Томичи. Срочно нужны де...</td>\n",
              "      <td>13900.0</td>\n",
              "    </tr>\n",
              "    <tr>\n",
              "      <th>7</th>\n",
              "      <td>489524</td>\n",
              "      <td>Кресла</td>\n",
              "      <td>Продаются 2кресла в хорошем состоянии за два 600</td>\n",
              "      <td>600.0</td>\n",
              "    </tr>\n",
              "    <tr>\n",
              "      <th>8</th>\n",
              "      <td>489525</td>\n",
              "      <td>Сверх быстрый YotaPhone 2</td>\n",
              "      <td>Да , разбит дисплей , но когда экран работает ...</td>\n",
              "      <td>6000.0</td>\n",
              "    </tr>\n",
              "    <tr>\n",
              "      <th>9</th>\n",
              "      <td>489526</td>\n",
              "      <td>Люстра ArteLamp medici A9468LM-5BR</td>\n",
              "      <td>ВНИМАНИЕ РАСПРОДАЖА !!!! Люстра ArteLamp MEDIC...</td>\n",
              "      <td>3650.0</td>\n",
              "    </tr>\n",
              "  </tbody>\n",
              "</table>\n",
              "</div>"
            ],
            "text/plain": [
              "   item_id                                              title  \\\n",
              "0   489517                             Стоик журнальный сталь   \n",
              "1   489518                                      iPhone 5 64Gb   \n",
              "2   489519                                         Утеплитель   \n",
              "3   489520                                Пальто демисезонное   \n",
              "4   489521                           Samsung syncmaster T200N   \n",
              "5   489522                             Дверь Profil Doors Х21   \n",
              "6   489523  Новый Cort CR100 в отличном состоянии, с коробкой   \n",
              "7   489524                                             Кресла   \n",
              "8   489525                          Сверх быстрый YotaPhone 2   \n",
              "9   489526                 Люстра ArteLamp medici A9468LM-5BR   \n",
              "\n",
              "                                         description    price  \n",
              "0  продам журнальный столик изготавливаю столы из...  10000.0  \n",
              "1  Телефон в хорошем состоянии. Комплект, гаранти...  12500.0  \n",
              "2  ТЕПЛОПЕЛЕН-ЛИДЕР ТЕПЛА!!! Толщина утеплителя :...    250.0  \n",
              "3  Продам пальто женское (букле) в отличном состо...   1700.0  \n",
              "4  Условно рабочий, проблема в панели настройки м...   1000.0  \n",
              "5  Дверь межкомнатная ProfilDoors 21Х. Серия Х пр...   6600.0  \n",
              "6  Доброго времени суток, Томичи. Срочно нужны де...  13900.0  \n",
              "7   Продаются 2кресла в хорошем состоянии за два 600    600.0  \n",
              "8  Да , разбит дисплей , но когда экран работает ...   6000.0  \n",
              "9  ВНИМАНИЕ РАСПРОДАЖА !!!! Люстра ArteLamp MEDIC...   3650.0  "
            ]
          },
          "metadata": {
            "tags": []
          },
          "execution_count": 4
        }
      ]
    },
    {
      "metadata": {
        "id": "k0EEHVYE0x5R",
        "colab_type": "code",
        "outputId": "3ff8559c-5007-4f5d-a1b4-ec4264ba0865",
        "colab": {
          "base_uri": "https://localhost:8080/",
          "height": 34
        }
      },
      "cell_type": "code",
      "source": [
        "test_data.shape"
      ],
      "execution_count": 0,
      "outputs": [
        {
          "output_type": "execute_result",
          "data": {
            "text/plain": [
              "(243166, 4)"
            ]
          },
          "metadata": {
            "tags": []
          },
          "execution_count": 37
        }
      ]
    },
    {
      "metadata": {
        "id": "QSEAqAos00qk",
        "colab_type": "code",
        "outputId": "7a96e426-d740-46ec-e0db-6bf57f403663",
        "colab": {
          "base_uri": "https://localhost:8080/",
          "height": 105
        }
      },
      "cell_type": "code",
      "source": [
        "test_data.isnull().sum()"
      ],
      "execution_count": 0,
      "outputs": [
        {
          "output_type": "execute_result",
          "data": {
            "text/plain": [
              "item_id        0\n",
              "title          0\n",
              "description    0\n",
              "price          0\n",
              "dtype: int64"
            ]
          },
          "metadata": {
            "tags": []
          },
          "execution_count": 38
        }
      ]
    },
    {
      "metadata": {
        "id": "R857SbT20bYk",
        "colab_type": "code",
        "outputId": "e261164e-12a5-4497-c312-4be5723cd49b",
        "colab": {
          "base_uri": "https://localhost:8080/",
          "height": 358
        }
      },
      "cell_type": "code",
      "source": [
        "categories = pd.read_csv('/content/gdrive/My Drive/category.csv', sep=\",\")\n",
        "categories.head(10)"
      ],
      "execution_count": 5,
      "outputs": [
        {
          "output_type": "execute_result",
          "data": {
            "text/html": [
              "<div>\n",
              "<style scoped>\n",
              "    .dataframe tbody tr th:only-of-type {\n",
              "        vertical-align: middle;\n",
              "    }\n",
              "\n",
              "    .dataframe tbody tr th {\n",
              "        vertical-align: top;\n",
              "    }\n",
              "\n",
              "    .dataframe thead th {\n",
              "        text-align: right;\n",
              "    }\n",
              "</style>\n",
              "<table border=\"1\" class=\"dataframe\">\n",
              "  <thead>\n",
              "    <tr style=\"text-align: right;\">\n",
              "      <th></th>\n",
              "      <th>category_id</th>\n",
              "      <th>name</th>\n",
              "    </tr>\n",
              "  </thead>\n",
              "  <tbody>\n",
              "    <tr>\n",
              "      <th>0</th>\n",
              "      <td>0</td>\n",
              "      <td>Бытовая электроника|Телефоны|iPhone</td>\n",
              "    </tr>\n",
              "    <tr>\n",
              "      <th>1</th>\n",
              "      <td>1</td>\n",
              "      <td>Бытовая электроника|Ноутбуки</td>\n",
              "    </tr>\n",
              "    <tr>\n",
              "      <th>2</th>\n",
              "      <td>2</td>\n",
              "      <td>Бытовая электроника|Телефоны|Samsung</td>\n",
              "    </tr>\n",
              "    <tr>\n",
              "      <th>3</th>\n",
              "      <td>3</td>\n",
              "      <td>Бытовая электроника|Планшеты и электронные кни...</td>\n",
              "    </tr>\n",
              "    <tr>\n",
              "      <th>4</th>\n",
              "      <td>4</td>\n",
              "      <td>Бытовая электроника|Игры, приставки и программ...</td>\n",
              "    </tr>\n",
              "    <tr>\n",
              "      <th>5</th>\n",
              "      <td>5</td>\n",
              "      <td>Бытовая электроника|Аудио и видео|Телевизоры и...</td>\n",
              "    </tr>\n",
              "    <tr>\n",
              "      <th>6</th>\n",
              "      <td>6</td>\n",
              "      <td>Бытовая электроника|Телефоны|Другие марки</td>\n",
              "    </tr>\n",
              "    <tr>\n",
              "      <th>7</th>\n",
              "      <td>7</td>\n",
              "      <td>Бытовая электроника|Настольные компьютеры</td>\n",
              "    </tr>\n",
              "    <tr>\n",
              "      <th>8</th>\n",
              "      <td>8</td>\n",
              "      <td>Бытовая электроника|Игры, приставки и программ...</td>\n",
              "    </tr>\n",
              "    <tr>\n",
              "      <th>9</th>\n",
              "      <td>9</td>\n",
              "      <td>Бытовая электроника|Телефоны|Аксессуары|Чехлы ...</td>\n",
              "    </tr>\n",
              "  </tbody>\n",
              "</table>\n",
              "</div>"
            ],
            "text/plain": [
              "   category_id                                               name\n",
              "0            0                Бытовая электроника|Телефоны|iPhone\n",
              "1            1                       Бытовая электроника|Ноутбуки\n",
              "2            2               Бытовая электроника|Телефоны|Samsung\n",
              "3            3  Бытовая электроника|Планшеты и электронные кни...\n",
              "4            4  Бытовая электроника|Игры, приставки и программ...\n",
              "5            5  Бытовая электроника|Аудио и видео|Телевизоры и...\n",
              "6            6          Бытовая электроника|Телефоны|Другие марки\n",
              "7            7          Бытовая электроника|Настольные компьютеры\n",
              "8            8  Бытовая электроника|Игры, приставки и программ...\n",
              "9            9  Бытовая электроника|Телефоны|Аксессуары|Чехлы ..."
            ]
          },
          "metadata": {
            "tags": []
          },
          "execution_count": 5
        }
      ]
    },
    {
      "metadata": {
        "id": "WE2g7gVu03iv",
        "colab_type": "code",
        "outputId": "955ee813-ff1a-4aaa-de66-33d949839f91",
        "colab": {
          "base_uri": "https://localhost:8080/",
          "height": 34
        }
      },
      "cell_type": "code",
      "source": [
        "categories.shape"
      ],
      "execution_count": 0,
      "outputs": [
        {
          "output_type": "execute_result",
          "data": {
            "text/plain": [
              "(54, 2)"
            ]
          },
          "metadata": {
            "tags": []
          },
          "execution_count": 40
        }
      ]
    },
    {
      "metadata": {
        "id": "U3QdpYnC06bh",
        "colab_type": "code",
        "outputId": "31641e22-a436-4216-e19f-48f638d9f11e",
        "colab": {
          "base_uri": "https://localhost:8080/",
          "height": 70
        }
      },
      "cell_type": "code",
      "source": [
        "categories.isnull().sum()"
      ],
      "execution_count": 0,
      "outputs": [
        {
          "output_type": "execute_result",
          "data": {
            "text/plain": [
              "category_id    0\n",
              "name           0\n",
              "dtype: int64"
            ]
          },
          "metadata": {
            "tags": []
          },
          "execution_count": 41
        }
      ]
    },
    {
      "metadata": {
        "id": "2dkOG9m5838w",
        "colab_type": "text"
      },
      "cell_type": "markdown",
      "source": [
        "Создание столбца для будущего различия train и test данных"
      ]
    },
    {
      "metadata": {
        "id": "mdrsljR189ca",
        "colab_type": "code",
        "colab": {}
      },
      "cell_type": "code",
      "source": [
        "isTrain = []\n",
        "for i in train_data['item_id']:\n",
        "  isTrain.append(1)\n",
        "boolTrain = pd.DataFrame({'isTrain': isTrain})\n",
        "\n",
        "isNotTrain = []\n",
        "for i in test_data['item_id']:\n",
        "  isNotTrain.append(0)\n",
        "notBoolTrain = pd.DataFrame({'isTrain': isNotTrain})\n"
      ],
      "execution_count": 0,
      "outputs": []
    },
    {
      "metadata": {
        "id": "9udaHxILAh9Y",
        "colab_type": "code",
        "outputId": "57540e37-a370-49ad-f7ed-d3dcb696f3ee",
        "colab": {
          "base_uri": "https://localhost:8080/",
          "height": 271
        }
      },
      "cell_type": "code",
      "source": [
        "train_data.loc[:,'isTrain'] = boolTrain\n",
        "train_data.head(5)"
      ],
      "execution_count": 0,
      "outputs": [
        {
          "output_type": "execute_result",
          "data": {
            "text/html": [
              "<div>\n",
              "<style scoped>\n",
              "    .dataframe tbody tr th:only-of-type {\n",
              "        vertical-align: middle;\n",
              "    }\n",
              "\n",
              "    .dataframe tbody tr th {\n",
              "        vertical-align: top;\n",
              "    }\n",
              "\n",
              "    .dataframe thead th {\n",
              "        text-align: right;\n",
              "    }\n",
              "</style>\n",
              "<table border=\"1\" class=\"dataframe\">\n",
              "  <thead>\n",
              "    <tr style=\"text-align: right;\">\n",
              "      <th></th>\n",
              "      <th>item_id</th>\n",
              "      <th>title</th>\n",
              "      <th>description</th>\n",
              "      <th>price</th>\n",
              "      <th>category_id</th>\n",
              "      <th>isTrain</th>\n",
              "    </tr>\n",
              "  </thead>\n",
              "  <tbody>\n",
              "    <tr>\n",
              "      <th>0</th>\n",
              "      <td>0</td>\n",
              "      <td>Картина</td>\n",
              "      <td>Гобелен. Размеры 139х84см.</td>\n",
              "      <td>1000.0</td>\n",
              "      <td>19</td>\n",
              "      <td>1</td>\n",
              "    </tr>\n",
              "    <tr>\n",
              "      <th>1</th>\n",
              "      <td>1</td>\n",
              "      <td>Стулья из прессованной кожи</td>\n",
              "      <td>Продам недорого 4 стула из светлой прессованно...</td>\n",
              "      <td>1250.0</td>\n",
              "      <td>22</td>\n",
              "      <td>1</td>\n",
              "    </tr>\n",
              "    <tr>\n",
              "      <th>2</th>\n",
              "      <td>2</td>\n",
              "      <td>Домашняя мини баня</td>\n",
              "      <td>Мини баня МБ-1(мини сауна), предназначена для ...</td>\n",
              "      <td>13000.0</td>\n",
              "      <td>37</td>\n",
              "      <td>1</td>\n",
              "    </tr>\n",
              "    <tr>\n",
              "      <th>3</th>\n",
              "      <td>3</td>\n",
              "      <td>Эксклюзивная коллекция книг \"Трансаэро\" + подарок</td>\n",
              "      <td>Продам эксклюзивную коллекцию книг, выпущенную...</td>\n",
              "      <td>4000.0</td>\n",
              "      <td>43</td>\n",
              "      <td>1</td>\n",
              "    </tr>\n",
              "    <tr>\n",
              "      <th>4</th>\n",
              "      <td>4</td>\n",
              "      <td>Ноутбук aser</td>\n",
              "      <td>Продаётся ноутбук ACER e5-511C2TA. Куплен в ко...</td>\n",
              "      <td>19000.0</td>\n",
              "      <td>1</td>\n",
              "      <td>1</td>\n",
              "    </tr>\n",
              "  </tbody>\n",
              "</table>\n",
              "</div>"
            ],
            "text/plain": [
              "   item_id                                              title  \\\n",
              "0        0                                            Картина   \n",
              "1        1                        Стулья из прессованной кожи   \n",
              "2        2                                 Домашняя мини баня   \n",
              "3        3  Эксклюзивная коллекция книг \"Трансаэро\" + подарок   \n",
              "4        4                                       Ноутбук aser   \n",
              "\n",
              "                                         description    price  category_id  \\\n",
              "0                         Гобелен. Размеры 139х84см.   1000.0           19   \n",
              "1  Продам недорого 4 стула из светлой прессованно...   1250.0           22   \n",
              "2  Мини баня МБ-1(мини сауна), предназначена для ...  13000.0           37   \n",
              "3  Продам эксклюзивную коллекцию книг, выпущенную...   4000.0           43   \n",
              "4  Продаётся ноутбук ACER e5-511C2TA. Куплен в ко...  19000.0            1   \n",
              "\n",
              "   isTrain  \n",
              "0        1  \n",
              "1        1  \n",
              "2        1  \n",
              "3        1  \n",
              "4        1  "
            ]
          },
          "metadata": {
            "tags": []
          },
          "execution_count": 43
        }
      ]
    },
    {
      "metadata": {
        "id": "o2c7_-tdBbHL",
        "colab_type": "code",
        "outputId": "795bd181-c76c-46a9-e9fa-512799f02ae6",
        "colab": {
          "base_uri": "https://localhost:8080/",
          "height": 203
        }
      },
      "cell_type": "code",
      "source": [
        "test_data.loc[:,'isTrain'] = notBoolTrain\n",
        "test_data.head(5)"
      ],
      "execution_count": 0,
      "outputs": [
        {
          "output_type": "execute_result",
          "data": {
            "text/html": [
              "<div>\n",
              "<style scoped>\n",
              "    .dataframe tbody tr th:only-of-type {\n",
              "        vertical-align: middle;\n",
              "    }\n",
              "\n",
              "    .dataframe tbody tr th {\n",
              "        vertical-align: top;\n",
              "    }\n",
              "\n",
              "    .dataframe thead th {\n",
              "        text-align: right;\n",
              "    }\n",
              "</style>\n",
              "<table border=\"1\" class=\"dataframe\">\n",
              "  <thead>\n",
              "    <tr style=\"text-align: right;\">\n",
              "      <th></th>\n",
              "      <th>item_id</th>\n",
              "      <th>title</th>\n",
              "      <th>description</th>\n",
              "      <th>price</th>\n",
              "      <th>isTrain</th>\n",
              "    </tr>\n",
              "  </thead>\n",
              "  <tbody>\n",
              "    <tr>\n",
              "      <th>0</th>\n",
              "      <td>489517</td>\n",
              "      <td>Стоик журнальный сталь</td>\n",
              "      <td>продам журнальный столик изготавливаю столы из...</td>\n",
              "      <td>10000.0</td>\n",
              "      <td>0</td>\n",
              "    </tr>\n",
              "    <tr>\n",
              "      <th>1</th>\n",
              "      <td>489518</td>\n",
              "      <td>iPhone 5 64Gb</td>\n",
              "      <td>Телефон в хорошем состоянии. Комплект, гаранти...</td>\n",
              "      <td>12500.0</td>\n",
              "      <td>0</td>\n",
              "    </tr>\n",
              "    <tr>\n",
              "      <th>2</th>\n",
              "      <td>489519</td>\n",
              "      <td>Утеплитель</td>\n",
              "      <td>ТЕПЛОПЕЛЕН-ЛИДЕР ТЕПЛА!!! Толщина утеплителя :...</td>\n",
              "      <td>250.0</td>\n",
              "      <td>0</td>\n",
              "    </tr>\n",
              "    <tr>\n",
              "      <th>3</th>\n",
              "      <td>489520</td>\n",
              "      <td>Пальто демисезонное</td>\n",
              "      <td>Продам пальто женское (букле) в отличном состо...</td>\n",
              "      <td>1700.0</td>\n",
              "      <td>0</td>\n",
              "    </tr>\n",
              "    <tr>\n",
              "      <th>4</th>\n",
              "      <td>489521</td>\n",
              "      <td>Samsung syncmaster T200N</td>\n",
              "      <td>Условно рабочий, проблема в панели настройки м...</td>\n",
              "      <td>1000.0</td>\n",
              "      <td>0</td>\n",
              "    </tr>\n",
              "  </tbody>\n",
              "</table>\n",
              "</div>"
            ],
            "text/plain": [
              "   item_id                     title  \\\n",
              "0   489517    Стоик журнальный сталь   \n",
              "1   489518             iPhone 5 64Gb   \n",
              "2   489519                Утеплитель   \n",
              "3   489520       Пальто демисезонное   \n",
              "4   489521  Samsung syncmaster T200N   \n",
              "\n",
              "                                         description    price  isTrain  \n",
              "0  продам журнальный столик изготавливаю столы из...  10000.0        0  \n",
              "1  Телефон в хорошем состоянии. Комплект, гаранти...  12500.0        0  \n",
              "2  ТЕПЛОПЕЛЕН-ЛИДЕР ТЕПЛА!!! Толщина утеплителя :...    250.0        0  \n",
              "3  Продам пальто женское (букле) в отличном состо...   1700.0        0  \n",
              "4  Условно рабочий, проблема в панели настройки м...   1000.0        0  "
            ]
          },
          "metadata": {
            "tags": []
          },
          "execution_count": 44
        }
      ]
    },
    {
      "metadata": {
        "id": "1XomHqX8Pp1O",
        "colab_type": "text"
      },
      "cell_type": "markdown",
      "source": [
        "Формирование словарей для обучения моделей"
      ]
    },
    {
      "metadata": {
        "id": "S4vhrVVBPnDa",
        "colab_type": "code",
        "outputId": "d67af0ec-60e0-432f-bf35-9de7fffea44b",
        "colab": {
          "base_uri": "https://localhost:8080/",
          "height": 105
        }
      },
      "cell_type": "code",
      "source": [
        "vocab_title_train_list = train_data['title'].tolist()\n",
        "vocab_title_test_list = test_data['title'].tolist()\n",
        "vocab_title_train_list[0:5]"
      ],
      "execution_count": 6,
      "outputs": [
        {
          "output_type": "execute_result",
          "data": {
            "text/plain": [
              "['Картина',\n",
              " 'Стулья из прессованной кожи',\n",
              " 'Домашняя мини баня',\n",
              " 'Эксклюзивная коллекция книг \"Трансаэро\" + подарок',\n",
              " 'Ноутбук aser']"
            ]
          },
          "metadata": {
            "tags": []
          },
          "execution_count": 6
        }
      ]
    },
    {
      "metadata": {
        "id": "z0Hv2qW-zgWU",
        "colab_type": "code",
        "outputId": "961d3df4-ba9c-454d-baa9-acdf3296baf1",
        "colab": {
          "base_uri": "https://localhost:8080/",
          "height": 203
        }
      },
      "cell_type": "code",
      "source": [
        "concat_cols = ['title', 'description', 'price']\n",
        "frames = [train_data[concat_cols], test_data[concat_cols]]\n",
        "df_concat_text = pd.concat(frames)\n",
        "df_concat_text.head()"
      ],
      "execution_count": 7,
      "outputs": [
        {
          "output_type": "execute_result",
          "data": {
            "text/html": [
              "<div>\n",
              "<style scoped>\n",
              "    .dataframe tbody tr th:only-of-type {\n",
              "        vertical-align: middle;\n",
              "    }\n",
              "\n",
              "    .dataframe tbody tr th {\n",
              "        vertical-align: top;\n",
              "    }\n",
              "\n",
              "    .dataframe thead th {\n",
              "        text-align: right;\n",
              "    }\n",
              "</style>\n",
              "<table border=\"1\" class=\"dataframe\">\n",
              "  <thead>\n",
              "    <tr style=\"text-align: right;\">\n",
              "      <th></th>\n",
              "      <th>title</th>\n",
              "      <th>description</th>\n",
              "      <th>price</th>\n",
              "    </tr>\n",
              "  </thead>\n",
              "  <tbody>\n",
              "    <tr>\n",
              "      <th>0</th>\n",
              "      <td>Картина</td>\n",
              "      <td>Гобелен. Размеры 139х84см.</td>\n",
              "      <td>1000.0</td>\n",
              "    </tr>\n",
              "    <tr>\n",
              "      <th>1</th>\n",
              "      <td>Стулья из прессованной кожи</td>\n",
              "      <td>Продам недорого 4 стула из светлой прессованно...</td>\n",
              "      <td>1250.0</td>\n",
              "    </tr>\n",
              "    <tr>\n",
              "      <th>2</th>\n",
              "      <td>Домашняя мини баня</td>\n",
              "      <td>Мини баня МБ-1(мини сауна), предназначена для ...</td>\n",
              "      <td>13000.0</td>\n",
              "    </tr>\n",
              "    <tr>\n",
              "      <th>3</th>\n",
              "      <td>Эксклюзивная коллекция книг \"Трансаэро\" + подарок</td>\n",
              "      <td>Продам эксклюзивную коллекцию книг, выпущенную...</td>\n",
              "      <td>4000.0</td>\n",
              "    </tr>\n",
              "    <tr>\n",
              "      <th>4</th>\n",
              "      <td>Ноутбук aser</td>\n",
              "      <td>Продаётся ноутбук ACER e5-511C2TA. Куплен в ко...</td>\n",
              "      <td>19000.0</td>\n",
              "    </tr>\n",
              "  </tbody>\n",
              "</table>\n",
              "</div>"
            ],
            "text/plain": [
              "                                               title  \\\n",
              "0                                            Картина   \n",
              "1                        Стулья из прессованной кожи   \n",
              "2                                 Домашняя мини баня   \n",
              "3  Эксклюзивная коллекция книг \"Трансаэро\" + подарок   \n",
              "4                                       Ноутбук aser   \n",
              "\n",
              "                                         description    price  \n",
              "0                         Гобелен. Размеры 139х84см.   1000.0  \n",
              "1  Продам недорого 4 стула из светлой прессованно...   1250.0  \n",
              "2  Мини баня МБ-1(мини сауна), предназначена для ...  13000.0  \n",
              "3  Продам эксклюзивную коллекцию книг, выпущенную...   4000.0  \n",
              "4  Продаётся ноутбук ACER e5-511C2TA. Куплен в ко...  19000.0  "
            ]
          },
          "metadata": {
            "tags": []
          },
          "execution_count": 7
        }
      ]
    },
    {
      "metadata": {
        "id": "tcmIIvBB7jJi",
        "colab_type": "code",
        "colab": {}
      },
      "cell_type": "code",
      "source": [
        "assert train_data.shape[0] + test_data.shape[0] == df_concat_text.shape[0]"
      ],
      "execution_count": 0,
      "outputs": []
    },
    {
      "metadata": {
        "id": "EIdxBCCz--1W",
        "colab_type": "code",
        "outputId": "7057799a-641e-4faa-c5ee-b99d293fed00",
        "colab": {
          "base_uri": "https://localhost:8080/",
          "height": 34
        }
      },
      "cell_type": "code",
      "source": [
        "df_concat_text.shape"
      ],
      "execution_count": 0,
      "outputs": [
        {
          "output_type": "execute_result",
          "data": {
            "text/plain": [
              "(732683, 3)"
            ]
          },
          "metadata": {
            "tags": []
          },
          "execution_count": 50
        }
      ]
    },
    {
      "metadata": {
        "id": "SLaeCIY3Bbz5",
        "colab_type": "text"
      },
      "cell_type": "markdown",
      "source": [
        "Векторизация текстов"
      ]
    },
    {
      "metadata": {
        "id": "gstGK3Lm9k5s",
        "colab_type": "code",
        "colab": {}
      },
      "cell_type": "code",
      "source": [
        "def vectorize_text(col):\n",
        "  v = TfidfVectorizer()\n",
        "  features = v.fit_transform(df_concat_text[col])\n",
        "  return features"
      ],
      "execution_count": 0,
      "outputs": []
    },
    {
      "metadata": {
        "id": "N6-Ioyo3-s4r",
        "colab_type": "code",
        "outputId": "bbe4b0bf-82f0-4947-d645-66fe1da86e0f",
        "colab": {
          "base_uri": "https://localhost:8080/",
          "height": 52
        }
      },
      "cell_type": "code",
      "source": [
        "vect_title = vectorize_text('title')\n",
        "vect_title"
      ],
      "execution_count": 10,
      "outputs": [
        {
          "output_type": "execute_result",
          "data": {
            "text/plain": [
              "<732683x196641 sparse matrix of type '<class 'numpy.float64'>'\n",
              "\twith 2684046 stored elements in Compressed Sparse Row format>"
            ]
          },
          "metadata": {
            "tags": []
          },
          "execution_count": 10
        }
      ]
    },
    {
      "metadata": {
        "id": "8GEPe0lM-4qo",
        "colab_type": "code",
        "outputId": "a9f813ef-5b0d-4abb-f4b7-95ec203e9ba2",
        "colab": {
          "base_uri": "https://localhost:8080/",
          "height": 52
        }
      },
      "cell_type": "code",
      "source": [
        "vect_description = vectorize_text('description')\n",
        "vect_description"
      ],
      "execution_count": 11,
      "outputs": [
        {
          "output_type": "execute_result",
          "data": {
            "text/plain": [
              "<732683x579563 sparse matrix of type '<class 'numpy.float64'>'\n",
              "\twith 22248631 stored elements in Compressed Sparse Row format>"
            ]
          },
          "metadata": {
            "tags": []
          },
          "execution_count": 11
        }
      ]
    },
    {
      "metadata": {
        "id": "CKzl9mNWGfl5",
        "colab_type": "text"
      },
      "cell_type": "markdown",
      "source": [
        "Текстовые признаки нормированы. Поэтому следует также отнормировать стоимость"
      ]
    },
    {
      "metadata": {
        "id": "jxHzFjN-Bn7R",
        "colab_type": "code",
        "outputId": "493a08f8-b974-4809-8e7d-ba39e3d7b18d",
        "colab": {
          "base_uri": "https://localhost:8080/",
          "height": 34
        }
      },
      "cell_type": "code",
      "source": [
        "np.min(vect_title), np.max(vect_title), np.min(vect_description), np.max(vect_description)"
      ],
      "execution_count": 12,
      "outputs": [
        {
          "output_type": "execute_result",
          "data": {
            "text/plain": [
              "(0.0, 1.0, 0.0, 1.0)"
            ]
          },
          "metadata": {
            "tags": []
          },
          "execution_count": 12
        }
      ]
    },
    {
      "metadata": {
        "id": "0m-cc9_oB77c",
        "colab_type": "code",
        "colab": {}
      },
      "cell_type": "code",
      "source": [
        "price_scaler = MinMaxScaler()\n",
        "price_scaled_data = price_scaler.fit_transform(df_concat_text['price'].values.reshape(-1, 1))"
      ],
      "execution_count": 0,
      "outputs": []
    },
    {
      "metadata": {
        "id": "ZF3YEThCC2PW",
        "colab_type": "code",
        "outputId": "a39b0fbc-a4cf-4aa7-eea0-29c685d99b29",
        "colab": {
          "base_uri": "https://localhost:8080/",
          "height": 34
        }
      },
      "cell_type": "code",
      "source": [
        "price_scaled_data.shape"
      ],
      "execution_count": 0,
      "outputs": [
        {
          "output_type": "execute_result",
          "data": {
            "text/plain": [
              "(732683, 1)"
            ]
          },
          "metadata": {
            "tags": []
          },
          "execution_count": 17
        }
      ]
    },
    {
      "metadata": {
        "id": "1ahKFxQtCzLE",
        "colab_type": "code",
        "outputId": "9e3e9e19-a282-46ca-c473-90d387d1e80f",
        "colab": {
          "base_uri": "https://localhost:8080/",
          "height": 34
        }
      },
      "cell_type": "code",
      "source": [
        "np.min(price_scaled_data), np.max(price_scaled_data)"
      ],
      "execution_count": 0,
      "outputs": [
        {
          "output_type": "execute_result",
          "data": {
            "text/plain": [
              "(0.0, 1.0)"
            ]
          },
          "metadata": {
            "tags": []
          },
          "execution_count": 60
        }
      ]
    },
    {
      "metadata": {
        "id": "bwhJoC9VDCk9",
        "colab_type": "text"
      },
      "cell_type": "markdown",
      "source": [
        "Объединим данные обучающей и тестовой выборок"
      ]
    },
    {
      "metadata": {
        "id": "YeMBMbiAEivp",
        "colab_type": "code",
        "outputId": "0ae16b98-f9f9-43e4-b029-61a638570a64",
        "colab": {
          "base_uri": "https://localhost:8080/",
          "height": 52
        }
      },
      "cell_type": "code",
      "source": [
        "train_array = sparse.hstack([vect_title[0:train_data.shape[0], :], vect_description[0:train_data.shape[0], :], sparse.csr_matrix(price_scaled_data[0:train_data.shape[0], :])])\n",
        "train_array"
      ],
      "execution_count": 14,
      "outputs": [
        {
          "output_type": "execute_result",
          "data": {
            "text/plain": [
              "<489517x776205 sparse matrix of type '<class 'numpy.float64'>'\n",
              "\twith 17160166 stored elements in COOrdinate format>"
            ]
          },
          "metadata": {
            "tags": []
          },
          "execution_count": 14
        }
      ]
    },
    {
      "metadata": {
        "id": "mwHtzULtHFfm",
        "colab_type": "code",
        "outputId": "6c4e8c90-f51e-4232-9280-25ec90c6c057",
        "colab": {
          "base_uri": "https://localhost:8080/",
          "height": 52
        }
      },
      "cell_type": "code",
      "source": [
        "test_array = sparse.hstack([vect_title[train_data.shape[0]:, :], vect_description[train_data.shape[0]:, :], sparse.csr_matrix(price_scaled_data[train_data.shape[0]:, :])])\n",
        "test_array"
      ],
      "execution_count": 15,
      "outputs": [
        {
          "output_type": "execute_result",
          "data": {
            "text/plain": [
              "<243166x776205 sparse matrix of type '<class 'numpy.float64'>'\n",
              "\twith 8505116 stored elements in COOrdinate format>"
            ]
          },
          "metadata": {
            "tags": []
          },
          "execution_count": 15
        }
      ]
    },
    {
      "metadata": {
        "id": "vN32KfvvHSxW",
        "colab_type": "code",
        "colab": {}
      },
      "cell_type": "code",
      "source": [
        ""
      ],
      "execution_count": 0,
      "outputs": []
    },
    {
      "metadata": {
        "id": "0bDgpEKuIgkX",
        "colab_type": "text"
      },
      "cell_type": "markdown",
      "source": [
        "Создадим простейшую модель без учета иерархии категорий. Поскольку тестовая выборка не содержит категорий для проверки, то проверим качество модели с использованием кросс-валидации."
      ]
    },
    {
      "metadata": {
        "id": "jjmq1dK8KBe1",
        "colab_type": "code",
        "outputId": "f496e990-1eca-4580-d124-2cae73aa18cc",
        "colab": {
          "base_uri": "https://localhost:8080/",
          "height": 34
        }
      },
      "cell_type": "code",
      "source": [
        "train_y=train_data['category_id'].values\n",
        "train_y"
      ],
      "execution_count": 16,
      "outputs": [
        {
          "output_type": "execute_result",
          "data": {
            "text/plain": [
              "array([19, 22, 37, ..., 25,  9, 50])"
            ]
          },
          "metadata": {
            "tags": []
          },
          "execution_count": 16
        }
      ]
    },
    {
      "metadata": {
        "id": "nlbn4HH6HgZz",
        "colab_type": "code",
        "outputId": "ae0939c3-3ffe-45af-c3b4-61bfb3d33c24",
        "colab": {
          "base_uri": "https://localhost:8080/",
          "height": 107
        }
      },
      "cell_type": "code",
      "source": [
        "lr = LogisticRegression()\n",
        "scores = cross_val_score(lr, train_array, y=train_y, scoring='accuracy', cv=3)"
      ],
      "execution_count": 17,
      "outputs": [
        {
          "output_type": "stream",
          "text": [
            "/usr/local/lib/python3.6/dist-packages/sklearn/linear_model/logistic.py:433: FutureWarning: Default solver will be changed to 'lbfgs' in 0.22. Specify a solver to silence this warning.\n",
            "  FutureWarning)\n",
            "/usr/local/lib/python3.6/dist-packages/sklearn/linear_model/logistic.py:460: FutureWarning: Default multi_class will be changed to 'auto' in 0.22. Specify the multi_class option to silence this warning.\n",
            "  \"this warning.\", FutureWarning)\n"
          ],
          "name": "stderr"
        }
      ]
    },
    {
      "metadata": {
        "id": "_Z3Lav-FJyYZ",
        "colab_type": "code",
        "outputId": "f359a75b-11fe-46e5-9705-4ab31ad865f1",
        "colab": {
          "base_uri": "https://localhost:8080/",
          "height": 34
        }
      },
      "cell_type": "code",
      "source": [
        "np.mean(scores)"
      ],
      "execution_count": 18,
      "outputs": [
        {
          "output_type": "execute_result",
          "data": {
            "text/plain": [
              "0.8846271273817149"
            ]
          },
          "metadata": {
            "tags": []
          },
          "execution_count": 18
        }
      ]
    },
    {
      "metadata": {
        "id": "5dm2jDapltLe",
        "colab_type": "text"
      },
      "cell_type": "markdown",
      "source": [
        "Исследование категорий"
      ]
    },
    {
      "metadata": {
        "id": "J2DBU_VPHgmC",
        "colab_type": "code",
        "colab": {
          "base_uri": "https://localhost:8080/",
          "height": 967
        },
        "outputId": "8a2bbd03-3c46-44b0-f509-655065972d39"
      },
      "cell_type": "code",
      "source": [
        "for c in categories['name'].values:\n",
        "  print('{} - {}'.format(c, c.count(\"|\")))"
      ],
      "execution_count": 19,
      "outputs": [
        {
          "output_type": "stream",
          "text": [
            "Бытовая электроника|Телефоны|iPhone - 2\n",
            "Бытовая электроника|Ноутбуки - 1\n",
            "Бытовая электроника|Телефоны|Samsung - 2\n",
            "Бытовая электроника|Планшеты и электронные книги|Планшеты - 2\n",
            "Бытовая электроника|Игры, приставки и программы|Игровые приставки - 2\n",
            "Бытовая электроника|Аудио и видео|Телевизоры и проекторы - 2\n",
            "Бытовая электроника|Телефоны|Другие марки - 2\n",
            "Бытовая электроника|Настольные компьютеры - 1\n",
            "Бытовая электроника|Игры, приставки и программы|Игры для приставок - 2\n",
            "Бытовая электроника|Телефоны|Аксессуары|Чехлы и плёнки - 3\n",
            "Бытовая электроника|Телефоны|Nokia - 2\n",
            "Бытовая электроника|Телефоны|Sony - 2\n",
            "Бытовая электроника|Аудио и видео|Акустика, колонки, сабвуферы - 2\n",
            "Бытовая электроника|Товары для компьютера|Мониторы - 2\n",
            "Бытовая электроника|Товары для компьютера|Сетевое оборудование - 2\n",
            "Для дома и дачи|Ремонт и строительство|Стройматериалы - 2\n",
            "Для дома и дачи|Мебель и интерьер|Кровати, диваны и кресла - 2\n",
            "Для дома и дачи|Ремонт и строительство|Инструменты - 2\n",
            "Для дома и дачи|Мебель и интерьер|Шкафы и комоды - 2\n",
            "Для дома и дачи|Мебель и интерьер|Предметы интерьера, искусство - 2\n",
            "Для дома и дачи|Посуда и товары для кухни|Посуда - 2\n",
            "Для дома и дачи|Ремонт и строительство|Сантехника и сауна - 2\n",
            "Для дома и дачи|Мебель и интерьер|Столы и стулья - 2\n",
            "Для дома и дачи|Мебель и интерьер|Другое - 2\n",
            "Для дома и дачи|Растения - 1\n",
            "Для дома и дачи|Ремонт и строительство|Двери - 2\n",
            "Для дома и дачи|Бытовая техника|Для дома|Стиральные машины - 3\n",
            "Для дома и дачи|Мебель и интерьер|Текстиль и ковры - 2\n",
            "Для дома и дачи|Мебель и интерьер|Освещение - 2\n",
            "Для дома и дачи|Бытовая техника|Для кухни|Мелкая кухонная техника - 3\n",
            "Личные вещи|Товары для детей и игрушки|Игрушки - 2\n",
            "Личные вещи|Одежда, обувь, аксессуары|Аксессуары - 2\n",
            "Личные вещи|Товары для детей и игрушки|Детские коляски - 2\n",
            "Личные вещи|Одежда, обувь, аксессуары|Женская одежда|Верхняя одежда - 3\n",
            "Личные вещи|Товары для детей и игрушки|Детская мебель - 2\n",
            "Личные вещи|Одежда, обувь, аксессуары|Женская одежда|Платья и юбки - 3\n",
            "Личные вещи|Часы и украшения|Часы - 2\n",
            "Личные вещи|Красота и здоровье|Приборы и аксессуары - 2\n",
            "Личные вещи|Одежда, обувь, аксессуары|Женская одежда|Другое - 3\n",
            "Личные вещи|Одежда, обувь, аксессуары|Женская одежда|Обувь - 3\n",
            "Личные вещи|Часы и украшения|Ювелирные изделия - 2\n",
            "Личные вещи|Товары для детей и игрушки|Товары для кормления - 2\n",
            "Хобби и отдых|Спорт и отдых|Зимние виды спорта - 2\n",
            "Хобби и отдых|Книги и журналы|Книги - 2\n",
            "Хобби и отдых|Коллекционирование|Другое - 2\n",
            "Хобби и отдых|Коллекционирование|Монеты - 2\n",
            "Хобби и отдых|Спорт и отдых|Фитнес и тренажёры - 2\n",
            "Хобби и отдых|Спорт и отдых|Другое - 2\n",
            "Хобби и отдых|Билеты и путешествия|Путешествия - 2\n",
            "Хобби и отдых|Охота и рыбалка - 1\n",
            "Хобби и отдых|Музыкальные инструменты|Гитары и другие струнные - 2\n",
            "Хобби и отдых|Книги и журналы|Учебная литература - 2\n",
            "Хобби и отдых|Музыкальные инструменты|Для студии и концертов - 2\n",
            "Хобби и отдых|Велосипеды|Запчасти и аксессуары - 2\n"
          ],
          "name": "stdout"
        }
      ]
    },
    {
      "metadata": {
        "id": "v7_HtV-_mL1E",
        "colab_type": "code",
        "outputId": "1b780d91-f367-432c-901c-4aa054862bbd",
        "colab": {
          "base_uri": "https://localhost:8080/",
          "height": 1743
        }
      },
      "cell_type": "code",
      "source": [
        "categories"
      ],
      "execution_count": 0,
      "outputs": [
        {
          "output_type": "execute_result",
          "data": {
            "text/html": [
              "<div>\n",
              "<style scoped>\n",
              "    .dataframe tbody tr th:only-of-type {\n",
              "        vertical-align: middle;\n",
              "    }\n",
              "\n",
              "    .dataframe tbody tr th {\n",
              "        vertical-align: top;\n",
              "    }\n",
              "\n",
              "    .dataframe thead th {\n",
              "        text-align: right;\n",
              "    }\n",
              "</style>\n",
              "<table border=\"1\" class=\"dataframe\">\n",
              "  <thead>\n",
              "    <tr style=\"text-align: right;\">\n",
              "      <th></th>\n",
              "      <th>category_id</th>\n",
              "      <th>name</th>\n",
              "    </tr>\n",
              "  </thead>\n",
              "  <tbody>\n",
              "    <tr>\n",
              "      <th>0</th>\n",
              "      <td>0</td>\n",
              "      <td>Бытовая электроника|Телефоны|iPhone</td>\n",
              "    </tr>\n",
              "    <tr>\n",
              "      <th>1</th>\n",
              "      <td>1</td>\n",
              "      <td>Бытовая электроника|Ноутбуки</td>\n",
              "    </tr>\n",
              "    <tr>\n",
              "      <th>2</th>\n",
              "      <td>2</td>\n",
              "      <td>Бытовая электроника|Телефоны|Samsung</td>\n",
              "    </tr>\n",
              "    <tr>\n",
              "      <th>3</th>\n",
              "      <td>3</td>\n",
              "      <td>Бытовая электроника|Планшеты и электронные кни...</td>\n",
              "    </tr>\n",
              "    <tr>\n",
              "      <th>4</th>\n",
              "      <td>4</td>\n",
              "      <td>Бытовая электроника|Игры, приставки и программ...</td>\n",
              "    </tr>\n",
              "    <tr>\n",
              "      <th>5</th>\n",
              "      <td>5</td>\n",
              "      <td>Бытовая электроника|Аудио и видео|Телевизоры и...</td>\n",
              "    </tr>\n",
              "    <tr>\n",
              "      <th>6</th>\n",
              "      <td>6</td>\n",
              "      <td>Бытовая электроника|Телефоны|Другие марки</td>\n",
              "    </tr>\n",
              "    <tr>\n",
              "      <th>7</th>\n",
              "      <td>7</td>\n",
              "      <td>Бытовая электроника|Настольные компьютеры</td>\n",
              "    </tr>\n",
              "    <tr>\n",
              "      <th>8</th>\n",
              "      <td>8</td>\n",
              "      <td>Бытовая электроника|Игры, приставки и программ...</td>\n",
              "    </tr>\n",
              "    <tr>\n",
              "      <th>9</th>\n",
              "      <td>9</td>\n",
              "      <td>Бытовая электроника|Телефоны|Аксессуары|Чехлы ...</td>\n",
              "    </tr>\n",
              "    <tr>\n",
              "      <th>10</th>\n",
              "      <td>10</td>\n",
              "      <td>Бытовая электроника|Телефоны|Nokia</td>\n",
              "    </tr>\n",
              "    <tr>\n",
              "      <th>11</th>\n",
              "      <td>11</td>\n",
              "      <td>Бытовая электроника|Телефоны|Sony</td>\n",
              "    </tr>\n",
              "    <tr>\n",
              "      <th>12</th>\n",
              "      <td>12</td>\n",
              "      <td>Бытовая электроника|Аудио и видео|Акустика, ко...</td>\n",
              "    </tr>\n",
              "    <tr>\n",
              "      <th>13</th>\n",
              "      <td>13</td>\n",
              "      <td>Бытовая электроника|Товары для компьютера|Мони...</td>\n",
              "    </tr>\n",
              "    <tr>\n",
              "      <th>14</th>\n",
              "      <td>14</td>\n",
              "      <td>Бытовая электроника|Товары для компьютера|Сете...</td>\n",
              "    </tr>\n",
              "    <tr>\n",
              "      <th>15</th>\n",
              "      <td>15</td>\n",
              "      <td>Для дома и дачи|Ремонт и строительство|Стройма...</td>\n",
              "    </tr>\n",
              "    <tr>\n",
              "      <th>16</th>\n",
              "      <td>16</td>\n",
              "      <td>Для дома и дачи|Мебель и интерьер|Кровати, див...</td>\n",
              "    </tr>\n",
              "    <tr>\n",
              "      <th>17</th>\n",
              "      <td>17</td>\n",
              "      <td>Для дома и дачи|Ремонт и строительство|Инструм...</td>\n",
              "    </tr>\n",
              "    <tr>\n",
              "      <th>18</th>\n",
              "      <td>18</td>\n",
              "      <td>Для дома и дачи|Мебель и интерьер|Шкафы и комоды</td>\n",
              "    </tr>\n",
              "    <tr>\n",
              "      <th>19</th>\n",
              "      <td>19</td>\n",
              "      <td>Для дома и дачи|Мебель и интерьер|Предметы инт...</td>\n",
              "    </tr>\n",
              "    <tr>\n",
              "      <th>20</th>\n",
              "      <td>20</td>\n",
              "      <td>Для дома и дачи|Посуда и товары для кухни|Посуда</td>\n",
              "    </tr>\n",
              "    <tr>\n",
              "      <th>21</th>\n",
              "      <td>21</td>\n",
              "      <td>Для дома и дачи|Ремонт и строительство|Сантехн...</td>\n",
              "    </tr>\n",
              "    <tr>\n",
              "      <th>22</th>\n",
              "      <td>22</td>\n",
              "      <td>Для дома и дачи|Мебель и интерьер|Столы и стулья</td>\n",
              "    </tr>\n",
              "    <tr>\n",
              "      <th>23</th>\n",
              "      <td>23</td>\n",
              "      <td>Для дома и дачи|Мебель и интерьер|Другое</td>\n",
              "    </tr>\n",
              "    <tr>\n",
              "      <th>24</th>\n",
              "      <td>24</td>\n",
              "      <td>Для дома и дачи|Растения</td>\n",
              "    </tr>\n",
              "    <tr>\n",
              "      <th>25</th>\n",
              "      <td>25</td>\n",
              "      <td>Для дома и дачи|Ремонт и строительство|Двери</td>\n",
              "    </tr>\n",
              "    <tr>\n",
              "      <th>26</th>\n",
              "      <td>26</td>\n",
              "      <td>Для дома и дачи|Бытовая техника|Для дома|Стира...</td>\n",
              "    </tr>\n",
              "    <tr>\n",
              "      <th>27</th>\n",
              "      <td>27</td>\n",
              "      <td>Для дома и дачи|Мебель и интерьер|Текстиль и к...</td>\n",
              "    </tr>\n",
              "    <tr>\n",
              "      <th>28</th>\n",
              "      <td>28</td>\n",
              "      <td>Для дома и дачи|Мебель и интерьер|Освещение</td>\n",
              "    </tr>\n",
              "    <tr>\n",
              "      <th>29</th>\n",
              "      <td>29</td>\n",
              "      <td>Для дома и дачи|Бытовая техника|Для кухни|Мелк...</td>\n",
              "    </tr>\n",
              "    <tr>\n",
              "      <th>30</th>\n",
              "      <td>30</td>\n",
              "      <td>Личные вещи|Товары для детей и игрушки|Игрушки</td>\n",
              "    </tr>\n",
              "    <tr>\n",
              "      <th>31</th>\n",
              "      <td>31</td>\n",
              "      <td>Личные вещи|Одежда, обувь, аксессуары|Аксессуары</td>\n",
              "    </tr>\n",
              "    <tr>\n",
              "      <th>32</th>\n",
              "      <td>32</td>\n",
              "      <td>Личные вещи|Товары для детей и игрушки|Детские...</td>\n",
              "    </tr>\n",
              "    <tr>\n",
              "      <th>33</th>\n",
              "      <td>33</td>\n",
              "      <td>Личные вещи|Одежда, обувь, аксессуары|Женская ...</td>\n",
              "    </tr>\n",
              "    <tr>\n",
              "      <th>34</th>\n",
              "      <td>34</td>\n",
              "      <td>Личные вещи|Товары для детей и игрушки|Детская...</td>\n",
              "    </tr>\n",
              "    <tr>\n",
              "      <th>35</th>\n",
              "      <td>35</td>\n",
              "      <td>Личные вещи|Одежда, обувь, аксессуары|Женская ...</td>\n",
              "    </tr>\n",
              "    <tr>\n",
              "      <th>36</th>\n",
              "      <td>36</td>\n",
              "      <td>Личные вещи|Часы и украшения|Часы</td>\n",
              "    </tr>\n",
              "    <tr>\n",
              "      <th>37</th>\n",
              "      <td>37</td>\n",
              "      <td>Личные вещи|Красота и здоровье|Приборы и аксес...</td>\n",
              "    </tr>\n",
              "    <tr>\n",
              "      <th>38</th>\n",
              "      <td>38</td>\n",
              "      <td>Личные вещи|Одежда, обувь, аксессуары|Женская ...</td>\n",
              "    </tr>\n",
              "    <tr>\n",
              "      <th>39</th>\n",
              "      <td>39</td>\n",
              "      <td>Личные вещи|Одежда, обувь, аксессуары|Женская ...</td>\n",
              "    </tr>\n",
              "    <tr>\n",
              "      <th>40</th>\n",
              "      <td>40</td>\n",
              "      <td>Личные вещи|Часы и украшения|Ювелирные изделия</td>\n",
              "    </tr>\n",
              "    <tr>\n",
              "      <th>41</th>\n",
              "      <td>41</td>\n",
              "      <td>Личные вещи|Товары для детей и игрушки|Товары ...</td>\n",
              "    </tr>\n",
              "    <tr>\n",
              "      <th>42</th>\n",
              "      <td>42</td>\n",
              "      <td>Хобби и отдых|Спорт и отдых|Зимние виды спорта</td>\n",
              "    </tr>\n",
              "    <tr>\n",
              "      <th>43</th>\n",
              "      <td>43</td>\n",
              "      <td>Хобби и отдых|Книги и журналы|Книги</td>\n",
              "    </tr>\n",
              "    <tr>\n",
              "      <th>44</th>\n",
              "      <td>44</td>\n",
              "      <td>Хобби и отдых|Коллекционирование|Другое</td>\n",
              "    </tr>\n",
              "    <tr>\n",
              "      <th>45</th>\n",
              "      <td>45</td>\n",
              "      <td>Хобби и отдых|Коллекционирование|Монеты</td>\n",
              "    </tr>\n",
              "    <tr>\n",
              "      <th>46</th>\n",
              "      <td>46</td>\n",
              "      <td>Хобби и отдых|Спорт и отдых|Фитнес и тренажёры</td>\n",
              "    </tr>\n",
              "    <tr>\n",
              "      <th>47</th>\n",
              "      <td>47</td>\n",
              "      <td>Хобби и отдых|Спорт и отдых|Другое</td>\n",
              "    </tr>\n",
              "    <tr>\n",
              "      <th>48</th>\n",
              "      <td>48</td>\n",
              "      <td>Хобби и отдых|Билеты и путешествия|Путешествия</td>\n",
              "    </tr>\n",
              "    <tr>\n",
              "      <th>49</th>\n",
              "      <td>49</td>\n",
              "      <td>Хобби и отдых|Охота и рыбалка</td>\n",
              "    </tr>\n",
              "    <tr>\n",
              "      <th>50</th>\n",
              "      <td>50</td>\n",
              "      <td>Хобби и отдых|Музыкальные инструменты|Гитары и...</td>\n",
              "    </tr>\n",
              "    <tr>\n",
              "      <th>51</th>\n",
              "      <td>51</td>\n",
              "      <td>Хобби и отдых|Книги и журналы|Учебная литература</td>\n",
              "    </tr>\n",
              "    <tr>\n",
              "      <th>52</th>\n",
              "      <td>52</td>\n",
              "      <td>Хобби и отдых|Музыкальные инструменты|Для студ...</td>\n",
              "    </tr>\n",
              "    <tr>\n",
              "      <th>53</th>\n",
              "      <td>53</td>\n",
              "      <td>Хобби и отдых|Велосипеды|Запчасти и аксессуары</td>\n",
              "    </tr>\n",
              "  </tbody>\n",
              "</table>\n",
              "</div>"
            ],
            "text/plain": [
              "    category_id                                               name\n",
              "0             0                Бытовая электроника|Телефоны|iPhone\n",
              "1             1                       Бытовая электроника|Ноутбуки\n",
              "2             2               Бытовая электроника|Телефоны|Samsung\n",
              "3             3  Бытовая электроника|Планшеты и электронные кни...\n",
              "4             4  Бытовая электроника|Игры, приставки и программ...\n",
              "5             5  Бытовая электроника|Аудио и видео|Телевизоры и...\n",
              "6             6          Бытовая электроника|Телефоны|Другие марки\n",
              "7             7          Бытовая электроника|Настольные компьютеры\n",
              "8             8  Бытовая электроника|Игры, приставки и программ...\n",
              "9             9  Бытовая электроника|Телефоны|Аксессуары|Чехлы ...\n",
              "10           10                 Бытовая электроника|Телефоны|Nokia\n",
              "11           11                  Бытовая электроника|Телефоны|Sony\n",
              "12           12  Бытовая электроника|Аудио и видео|Акустика, ко...\n",
              "13           13  Бытовая электроника|Товары для компьютера|Мони...\n",
              "14           14  Бытовая электроника|Товары для компьютера|Сете...\n",
              "15           15  Для дома и дачи|Ремонт и строительство|Стройма...\n",
              "16           16  Для дома и дачи|Мебель и интерьер|Кровати, див...\n",
              "17           17  Для дома и дачи|Ремонт и строительство|Инструм...\n",
              "18           18   Для дома и дачи|Мебель и интерьер|Шкафы и комоды\n",
              "19           19  Для дома и дачи|Мебель и интерьер|Предметы инт...\n",
              "20           20   Для дома и дачи|Посуда и товары для кухни|Посуда\n",
              "21           21  Для дома и дачи|Ремонт и строительство|Сантехн...\n",
              "22           22   Для дома и дачи|Мебель и интерьер|Столы и стулья\n",
              "23           23           Для дома и дачи|Мебель и интерьер|Другое\n",
              "24           24                           Для дома и дачи|Растения\n",
              "25           25       Для дома и дачи|Ремонт и строительство|Двери\n",
              "26           26  Для дома и дачи|Бытовая техника|Для дома|Стира...\n",
              "27           27  Для дома и дачи|Мебель и интерьер|Текстиль и к...\n",
              "28           28        Для дома и дачи|Мебель и интерьер|Освещение\n",
              "29           29  Для дома и дачи|Бытовая техника|Для кухни|Мелк...\n",
              "30           30     Личные вещи|Товары для детей и игрушки|Игрушки\n",
              "31           31   Личные вещи|Одежда, обувь, аксессуары|Аксессуары\n",
              "32           32  Личные вещи|Товары для детей и игрушки|Детские...\n",
              "33           33  Личные вещи|Одежда, обувь, аксессуары|Женская ...\n",
              "34           34  Личные вещи|Товары для детей и игрушки|Детская...\n",
              "35           35  Личные вещи|Одежда, обувь, аксессуары|Женская ...\n",
              "36           36                  Личные вещи|Часы и украшения|Часы\n",
              "37           37  Личные вещи|Красота и здоровье|Приборы и аксес...\n",
              "38           38  Личные вещи|Одежда, обувь, аксессуары|Женская ...\n",
              "39           39  Личные вещи|Одежда, обувь, аксессуары|Женская ...\n",
              "40           40     Личные вещи|Часы и украшения|Ювелирные изделия\n",
              "41           41  Личные вещи|Товары для детей и игрушки|Товары ...\n",
              "42           42     Хобби и отдых|Спорт и отдых|Зимние виды спорта\n",
              "43           43                Хобби и отдых|Книги и журналы|Книги\n",
              "44           44            Хобби и отдых|Коллекционирование|Другое\n",
              "45           45            Хобби и отдых|Коллекционирование|Монеты\n",
              "46           46     Хобби и отдых|Спорт и отдых|Фитнес и тренажёры\n",
              "47           47                 Хобби и отдых|Спорт и отдых|Другое\n",
              "48           48     Хобби и отдых|Билеты и путешествия|Путешествия\n",
              "49           49                      Хобби и отдых|Охота и рыбалка\n",
              "50           50  Хобби и отдых|Музыкальные инструменты|Гитары и...\n",
              "51           51   Хобби и отдых|Книги и журналы|Учебная литература\n",
              "52           52  Хобби и отдых|Музыкальные инструменты|Для студ...\n",
              "53           53     Хобби и отдых|Велосипеды|Запчасти и аксессуары"
            ]
          },
          "metadata": {
            "tags": []
          },
          "execution_count": 49
        }
      ]
    },
    {
      "metadata": {
        "id": "_rcVZp7MJjja",
        "colab_type": "code",
        "colab": {}
      },
      "cell_type": "code",
      "source": [
        "# определение уровня иерархии\n",
        "def count_category_level(name):\n",
        "  return name.count(\"|\") + 1"
      ],
      "execution_count": 0,
      "outputs": []
    },
    {
      "metadata": {
        "id": "OTB6U22mEkP0",
        "colab_type": "code",
        "colab": {}
      },
      "cell_type": "code",
      "source": [
        "categories['level'] = categories.apply(lambda x: count_category_level(x['name']), axis=1)"
      ],
      "execution_count": 0,
      "outputs": []
    },
    {
      "metadata": {
        "id": "pPLIRsbMnoRr",
        "colab_type": "code",
        "colab": {
          "base_uri": "https://localhost:8080/",
          "height": 967
        },
        "outputId": "cd8ae00e-5695-4c2d-f17c-ff58eb41fb58"
      },
      "cell_type": "code",
      "source": [
        "for index, c in categories.iterrows():\n",
        "  print('{} \\t {} \\t {}'.format(c['level'], c['name'].count(\"|\"), c['name']))"
      ],
      "execution_count": 22,
      "outputs": [
        {
          "output_type": "stream",
          "text": [
            "3 \t 2 \t Бытовая электроника|Телефоны|iPhone\n",
            "2 \t 1 \t Бытовая электроника|Ноутбуки\n",
            "3 \t 2 \t Бытовая электроника|Телефоны|Samsung\n",
            "3 \t 2 \t Бытовая электроника|Планшеты и электронные книги|Планшеты\n",
            "3 \t 2 \t Бытовая электроника|Игры, приставки и программы|Игровые приставки\n",
            "3 \t 2 \t Бытовая электроника|Аудио и видео|Телевизоры и проекторы\n",
            "3 \t 2 \t Бытовая электроника|Телефоны|Другие марки\n",
            "2 \t 1 \t Бытовая электроника|Настольные компьютеры\n",
            "3 \t 2 \t Бытовая электроника|Игры, приставки и программы|Игры для приставок\n",
            "4 \t 3 \t Бытовая электроника|Телефоны|Аксессуары|Чехлы и плёнки\n",
            "3 \t 2 \t Бытовая электроника|Телефоны|Nokia\n",
            "3 \t 2 \t Бытовая электроника|Телефоны|Sony\n",
            "3 \t 2 \t Бытовая электроника|Аудио и видео|Акустика, колонки, сабвуферы\n",
            "3 \t 2 \t Бытовая электроника|Товары для компьютера|Мониторы\n",
            "3 \t 2 \t Бытовая электроника|Товары для компьютера|Сетевое оборудование\n",
            "3 \t 2 \t Для дома и дачи|Ремонт и строительство|Стройматериалы\n",
            "3 \t 2 \t Для дома и дачи|Мебель и интерьер|Кровати, диваны и кресла\n",
            "3 \t 2 \t Для дома и дачи|Ремонт и строительство|Инструменты\n",
            "3 \t 2 \t Для дома и дачи|Мебель и интерьер|Шкафы и комоды\n",
            "3 \t 2 \t Для дома и дачи|Мебель и интерьер|Предметы интерьера, искусство\n",
            "3 \t 2 \t Для дома и дачи|Посуда и товары для кухни|Посуда\n",
            "3 \t 2 \t Для дома и дачи|Ремонт и строительство|Сантехника и сауна\n",
            "3 \t 2 \t Для дома и дачи|Мебель и интерьер|Столы и стулья\n",
            "3 \t 2 \t Для дома и дачи|Мебель и интерьер|Другое\n",
            "2 \t 1 \t Для дома и дачи|Растения\n",
            "3 \t 2 \t Для дома и дачи|Ремонт и строительство|Двери\n",
            "4 \t 3 \t Для дома и дачи|Бытовая техника|Для дома|Стиральные машины\n",
            "3 \t 2 \t Для дома и дачи|Мебель и интерьер|Текстиль и ковры\n",
            "3 \t 2 \t Для дома и дачи|Мебель и интерьер|Освещение\n",
            "4 \t 3 \t Для дома и дачи|Бытовая техника|Для кухни|Мелкая кухонная техника\n",
            "3 \t 2 \t Личные вещи|Товары для детей и игрушки|Игрушки\n",
            "3 \t 2 \t Личные вещи|Одежда, обувь, аксессуары|Аксессуары\n",
            "3 \t 2 \t Личные вещи|Товары для детей и игрушки|Детские коляски\n",
            "4 \t 3 \t Личные вещи|Одежда, обувь, аксессуары|Женская одежда|Верхняя одежда\n",
            "3 \t 2 \t Личные вещи|Товары для детей и игрушки|Детская мебель\n",
            "4 \t 3 \t Личные вещи|Одежда, обувь, аксессуары|Женская одежда|Платья и юбки\n",
            "3 \t 2 \t Личные вещи|Часы и украшения|Часы\n",
            "3 \t 2 \t Личные вещи|Красота и здоровье|Приборы и аксессуары\n",
            "4 \t 3 \t Личные вещи|Одежда, обувь, аксессуары|Женская одежда|Другое\n",
            "4 \t 3 \t Личные вещи|Одежда, обувь, аксессуары|Женская одежда|Обувь\n",
            "3 \t 2 \t Личные вещи|Часы и украшения|Ювелирные изделия\n",
            "3 \t 2 \t Личные вещи|Товары для детей и игрушки|Товары для кормления\n",
            "3 \t 2 \t Хобби и отдых|Спорт и отдых|Зимние виды спорта\n",
            "3 \t 2 \t Хобби и отдых|Книги и журналы|Книги\n",
            "3 \t 2 \t Хобби и отдых|Коллекционирование|Другое\n",
            "3 \t 2 \t Хобби и отдых|Коллекционирование|Монеты\n",
            "3 \t 2 \t Хобби и отдых|Спорт и отдых|Фитнес и тренажёры\n",
            "3 \t 2 \t Хобби и отдых|Спорт и отдых|Другое\n",
            "3 \t 2 \t Хобби и отдых|Билеты и путешествия|Путешествия\n",
            "2 \t 1 \t Хобби и отдых|Охота и рыбалка\n",
            "3 \t 2 \t Хобби и отдых|Музыкальные инструменты|Гитары и другие струнные\n",
            "3 \t 2 \t Хобби и отдых|Книги и журналы|Учебная литература\n",
            "3 \t 2 \t Хобби и отдых|Музыкальные инструменты|Для студии и концертов\n",
            "3 \t 2 \t Хобби и отдых|Велосипеды|Запчасти и аксессуары\n"
          ],
          "name": "stdout"
        }
      ]
    },
    {
      "metadata": {
        "id": "ph0Oy3RkosXM",
        "colab_type": "code",
        "colab": {}
      },
      "cell_type": "code",
      "source": [
        "# Словарь для определения уровня на основе id категории\n",
        "category_level_dict = {}\n",
        "for index, c in categories.iterrows():\n",
        "  id = c['category_id']\n",
        "  level = c['level']\n",
        "  category_level_dict[id] = level"
      ],
      "execution_count": 0,
      "outputs": []
    },
    {
      "metadata": {
        "id": "0WJPWNTwpORu",
        "colab_type": "code",
        "colab": {
          "base_uri": "https://localhost:8080/",
          "height": 967
        },
        "outputId": "2bb12863-01a5-4fa7-adf3-e592a3c274c0"
      },
      "cell_type": "code",
      "source": [
        "category_level_dict"
      ],
      "execution_count": 62,
      "outputs": [
        {
          "output_type": "execute_result",
          "data": {
            "text/plain": [
              "{0: 3,\n",
              " 1: 2,\n",
              " 2: 3,\n",
              " 3: 3,\n",
              " 4: 3,\n",
              " 5: 3,\n",
              " 6: 3,\n",
              " 7: 2,\n",
              " 8: 3,\n",
              " 9: 4,\n",
              " 10: 3,\n",
              " 11: 3,\n",
              " 12: 3,\n",
              " 13: 3,\n",
              " 14: 3,\n",
              " 15: 3,\n",
              " 16: 3,\n",
              " 17: 3,\n",
              " 18: 3,\n",
              " 19: 3,\n",
              " 20: 3,\n",
              " 21: 3,\n",
              " 22: 3,\n",
              " 23: 3,\n",
              " 24: 2,\n",
              " 25: 3,\n",
              " 26: 4,\n",
              " 27: 3,\n",
              " 28: 3,\n",
              " 29: 4,\n",
              " 30: 3,\n",
              " 31: 3,\n",
              " 32: 3,\n",
              " 33: 4,\n",
              " 34: 3,\n",
              " 35: 4,\n",
              " 36: 3,\n",
              " 37: 3,\n",
              " 38: 4,\n",
              " 39: 4,\n",
              " 40: 3,\n",
              " 41: 3,\n",
              " 42: 3,\n",
              " 43: 3,\n",
              " 44: 3,\n",
              " 45: 3,\n",
              " 46: 3,\n",
              " 47: 3,\n",
              " 48: 3,\n",
              " 49: 2,\n",
              " 50: 3,\n",
              " 51: 3,\n",
              " 52: 3,\n",
              " 53: 3}"
            ]
          },
          "metadata": {
            "tags": []
          },
          "execution_count": 62
        }
      ]
    },
    {
      "metadata": {
        "id": "Jw2na0RNpPvy",
        "colab_type": "code",
        "colab": {}
      },
      "cell_type": "code",
      "source": [
        "train_data['level'] = train_data.apply(lambda x: category_level_dict[x['category_id']], axis=1)"
      ],
      "execution_count": 0,
      "outputs": []
    },
    {
      "metadata": {
        "id": "NoxIGs8zp3i8",
        "colab_type": "code",
        "colab": {}
      },
      "cell_type": "code",
      "source": [
        "train_data.head()"
      ],
      "execution_count": 0,
      "outputs": []
    },
    {
      "metadata": {
        "id": "lgICCChBpeEr",
        "colab_type": "text"
      },
      "cell_type": "markdown",
      "source": [
        "Построим отдельные модели для всех уровней иерархии"
      ]
    },
    {
      "metadata": {
        "id": "bguuArdrohgn",
        "colab_type": "code",
        "colab": {}
      },
      "cell_type": "code",
      "source": [
        "td2 = train_data[train_data['level'] == 2]\n",
        "td3 = train_data[train_data['level'] == 3]\n",
        "td4 = train_data[train_data['level'] == 4]"
      ],
      "execution_count": 0,
      "outputs": []
    },
    {
      "metadata": {
        "id": "aEe63y1Qp2ts",
        "colab_type": "code",
        "colab": {
          "base_uri": "https://localhost:8080/",
          "height": 34
        },
        "outputId": "b735a823-0bb6-4465-f8ba-cce280002acd"
      },
      "cell_type": "code",
      "source": [
        "td2.shape"
      ],
      "execution_count": 67,
      "outputs": [
        {
          "output_type": "execute_result",
          "data": {
            "text/plain": [
              "(35584, 6)"
            ]
          },
          "metadata": {
            "tags": []
          },
          "execution_count": 67
        }
      ]
    },
    {
      "metadata": {
        "id": "Owkifpoap5zq",
        "colab_type": "code",
        "colab": {
          "base_uri": "https://localhost:8080/",
          "height": 34
        },
        "outputId": "aabf353f-65c5-4349-f782-39725e52a906"
      },
      "cell_type": "code",
      "source": [
        "td3.shape"
      ],
      "execution_count": 68,
      "outputs": [
        {
          "output_type": "execute_result",
          "data": {
            "text/plain": [
              "(390839, 6)"
            ]
          },
          "metadata": {
            "tags": []
          },
          "execution_count": 68
        }
      ]
    },
    {
      "metadata": {
        "id": "muzThbg-p8Kw",
        "colab_type": "code",
        "colab": {
          "base_uri": "https://localhost:8080/",
          "height": 34
        },
        "outputId": "035b7f2c-4eef-4ec1-a91e-438c100d4fab"
      },
      "cell_type": "code",
      "source": [
        "td4.shape"
      ],
      "execution_count": 69,
      "outputs": [
        {
          "output_type": "execute_result",
          "data": {
            "text/plain": [
              "(63094, 6)"
            ]
          },
          "metadata": {
            "tags": []
          },
          "execution_count": 69
        }
      ]
    },
    {
      "metadata": {
        "id": "J80x-QIjEkik",
        "colab_type": "code",
        "colab": {
          "base_uri": "https://localhost:8080/",
          "height": 34
        },
        "outputId": "07b16836-d7de-411e-836c-d172dd6b7832"
      },
      "cell_type": "code",
      "source": [
        "td2['category_id'].unique()"
      ],
      "execution_count": 70,
      "outputs": [
        {
          "output_type": "execute_result",
          "data": {
            "text/plain": [
              "array([ 1, 24, 49,  7])"
            ]
          },
          "metadata": {
            "tags": []
          },
          "execution_count": 70
        }
      ]
    },
    {
      "metadata": {
        "id": "F6D1HIl0Ek1j",
        "colab_type": "code",
        "colab": {
          "base_uri": "https://localhost:8080/",
          "height": 122
        },
        "outputId": "8dc8efba-a087-46b8-b686-d571ef4badb1"
      },
      "cell_type": "code",
      "source": [
        "# номера строк отфильтрованных записей\n",
        "td2.index"
      ],
      "execution_count": 71,
      "outputs": [
        {
          "output_type": "execute_result",
          "data": {
            "text/plain": [
              "Int64Index([     4,     15,     34,     35,     40,     71,    119,    121,\n",
              "               126,    130,\n",
              "            ...\n",
              "            489399, 489402, 489404, 489420, 489421, 489453, 489468, 489471,\n",
              "            489481, 489483],\n",
              "           dtype='int64', length=35584)"
            ]
          },
          "metadata": {
            "tags": []
          },
          "execution_count": 71
        }
      ]
    },
    {
      "metadata": {
        "id": "Etruk5G_29ZI",
        "colab_type": "text"
      },
      "cell_type": "markdown",
      "source": [
        "Дальше можно было бы отфильтровать разреженную матрицу по номерам строк, но, к сожалению, для разреженной матрицы не реализована такая операция. Единственный вариант - фильтровать исходный набор данных и каждый раз заново строить фичи.\n",
        "\n",
        "Тестовая выборка не рассматривается, так как качество проверяем с помощью кросс-валидации для обучающей."
      ]
    },
    {
      "metadata": {
        "id": "peeiUoMr28h7",
        "colab_type": "code",
        "colab": {}
      },
      "cell_type": "code",
      "source": [
        "def vectorize_text_2(df, col):\n",
        "  v = TfidfVectorizer()\n",
        "  features = v.fit_transform(df[col])\n",
        "  return features"
      ],
      "execution_count": 0,
      "outputs": []
    },
    {
      "metadata": {
        "id": "dcqtPFCCBoWh",
        "colab_type": "code",
        "colab": {
          "base_uri": "https://localhost:8080/",
          "height": 52
        },
        "outputId": "461c4f7a-237c-464c-817b-59d9ba3d91e8"
      },
      "cell_type": "code",
      "source": [
        "td2_vect_title = vectorize_text_2(td2, 'title')\n",
        "td2_vect_title"
      ],
      "execution_count": 72,
      "outputs": [
        {
          "output_type": "execute_result",
          "data": {
            "text/plain": [
              "<35584x23225 sparse matrix of type '<class 'numpy.float64'>'\n",
              "\twith 135154 stored elements in Compressed Sparse Row format>"
            ]
          },
          "metadata": {
            "tags": []
          },
          "execution_count": 72
        }
      ]
    },
    {
      "metadata": {
        "id": "FmNPyILbqfw7",
        "colab_type": "code",
        "colab": {
          "base_uri": "https://localhost:8080/",
          "height": 52
        },
        "outputId": "a2b3096e-7555-4976-a525-0d01535c910a"
      },
      "cell_type": "code",
      "source": [
        "td3_vect_title = vectorize_text_2(td3, 'title')\n",
        "td3_vect_title"
      ],
      "execution_count": 73,
      "outputs": [
        {
          "output_type": "execute_result",
          "data": {
            "text/plain": [
              "<390839x133174 sparse matrix of type '<class 'numpy.float64'>'\n",
              "\twith 1449664 stored elements in Compressed Sparse Row format>"
            ]
          },
          "metadata": {
            "tags": []
          },
          "execution_count": 73
        }
      ]
    },
    {
      "metadata": {
        "id": "bxXE-L45qiS0",
        "colab_type": "code",
        "colab": {
          "base_uri": "https://localhost:8080/",
          "height": 52
        },
        "outputId": "57b1e034-8a77-44eb-e2fe-42b6771dc280"
      },
      "cell_type": "code",
      "source": [
        "td4_vect_title = vectorize_text_2(td4, 'title')\n",
        "td4_vect_title"
      ],
      "execution_count": 74,
      "outputs": [
        {
          "output_type": "execute_result",
          "data": {
            "text/plain": [
              "<63094x20401 sparse matrix of type '<class 'numpy.float64'>'\n",
              "\twith 207139 stored elements in Compressed Sparse Row format>"
            ]
          },
          "metadata": {
            "tags": []
          },
          "execution_count": 74
        }
      ]
    },
    {
      "metadata": {
        "id": "tuP_jBM-ADK0",
        "colab_type": "code",
        "colab": {
          "base_uri": "https://localhost:8080/",
          "height": 52
        },
        "outputId": "e893e83a-2f80-4079-e3ee-63c5bee870b7"
      },
      "cell_type": "code",
      "source": [
        "td2_vect_description = vectorize_text_2(td2, 'description')\n",
        "td2_vect_description"
      ],
      "execution_count": 75,
      "outputs": [
        {
          "output_type": "execute_result",
          "data": {
            "text/plain": [
              "<35584x104762 sparse matrix of type '<class 'numpy.float64'>'\n",
              "\twith 1456780 stored elements in Compressed Sparse Row format>"
            ]
          },
          "metadata": {
            "tags": []
          },
          "execution_count": 75
        }
      ]
    },
    {
      "metadata": {
        "id": "2ihddZDPqqPo",
        "colab_type": "code",
        "colab": {
          "base_uri": "https://localhost:8080/",
          "height": 52
        },
        "outputId": "f6c6bded-14b5-408a-fb6c-53f40bda230c"
      },
      "cell_type": "code",
      "source": [
        "td3_vect_description = vectorize_text_2(td3, 'description')\n",
        "td3_vect_description"
      ],
      "execution_count": 76,
      "outputs": [
        {
          "output_type": "execute_result",
          "data": {
            "text/plain": [
              "<390839x410768 sparse matrix of type '<class 'numpy.float64'>'\n",
              "\twith 12046508 stored elements in Compressed Sparse Row format>"
            ]
          },
          "metadata": {
            "tags": []
          },
          "execution_count": 76
        }
      ]
    },
    {
      "metadata": {
        "id": "jl4WhHoHqtP8",
        "colab_type": "code",
        "colab": {
          "base_uri": "https://localhost:8080/",
          "height": 52
        },
        "outputId": "aff0e898-e809-444a-d749-b4b006fbecfc"
      },
      "cell_type": "code",
      "source": [
        "td4_vect_description = vectorize_text_2(td4, 'description')\n",
        "td4_vect_description"
      ],
      "execution_count": 77,
      "outputs": [
        {
          "output_type": "execute_result",
          "data": {
            "text/plain": [
              "<63094x71062 sparse matrix of type '<class 'numpy.float64'>'\n",
              "\twith 1375453 stored elements in Compressed Sparse Row format>"
            ]
          },
          "metadata": {
            "tags": []
          },
          "execution_count": 77
        }
      ]
    },
    {
      "metadata": {
        "id": "CgdYH0qa_97c",
        "colab_type": "code",
        "colab": {
          "base_uri": "https://localhost:8080/",
          "height": 34
        },
        "outputId": "2944e93f-d889-4d76-fdfd-5cf139ae3707"
      },
      "cell_type": "code",
      "source": [
        "td2_price_scaler = MinMaxScaler()\n",
        "td2_price_scaled_data = td2_price_scaler.fit_transform(td2['price'].values.reshape(-1, 1))\n",
        "td2_price_scaled_data.shape"
      ],
      "execution_count": 78,
      "outputs": [
        {
          "output_type": "execute_result",
          "data": {
            "text/plain": [
              "(35584, 1)"
            ]
          },
          "metadata": {
            "tags": []
          },
          "execution_count": 78
        }
      ]
    },
    {
      "metadata": {
        "id": "KexXJ9rY7ujd",
        "colab_type": "code",
        "colab": {
          "base_uri": "https://localhost:8080/",
          "height": 34
        },
        "outputId": "73ada2bf-bc21-4441-8d95-e288df7e5eb4"
      },
      "cell_type": "code",
      "source": [
        "td3_price_scaler = MinMaxScaler()\n",
        "td3_price_scaled_data = td3_price_scaler.fit_transform(td3['price'].values.reshape(-1, 1))\n",
        "td3_price_scaled_data.shape"
      ],
      "execution_count": 79,
      "outputs": [
        {
          "output_type": "execute_result",
          "data": {
            "text/plain": [
              "(390839, 1)"
            ]
          },
          "metadata": {
            "tags": []
          },
          "execution_count": 79
        }
      ]
    },
    {
      "metadata": {
        "id": "7wfQRfmyrQ0r",
        "colab_type": "code",
        "colab": {
          "base_uri": "https://localhost:8080/",
          "height": 34
        },
        "outputId": "1884755c-68bd-44bb-a4d6-d2fc65af1ed5"
      },
      "cell_type": "code",
      "source": [
        "td4_price_scaler = MinMaxScaler()\n",
        "td4_price_scaled_data = td4_price_scaler.fit_transform(td4['price'].values.reshape(-1, 1))\n",
        "td4_price_scaled_data.shape"
      ],
      "execution_count": 80,
      "outputs": [
        {
          "output_type": "execute_result",
          "data": {
            "text/plain": [
              "(63094, 1)"
            ]
          },
          "metadata": {
            "tags": []
          },
          "execution_count": 80
        }
      ]
    },
    {
      "metadata": {
        "id": "kxWrmz6v67pD",
        "colab_type": "code",
        "colab": {
          "base_uri": "https://localhost:8080/",
          "height": 52
        },
        "outputId": "41fa93f0-01ac-4e0d-8c36-e042145409e7"
      },
      "cell_type": "code",
      "source": [
        "td2_train_array = sparse.hstack([td2_vect_title, td2_vect_description, sparse.csr_matrix(td2_price_scaled_data)])\n",
        "td2_train_array"
      ],
      "execution_count": 81,
      "outputs": [
        {
          "output_type": "execute_result",
          "data": {
            "text/plain": [
              "<35584x127988 sparse matrix of type '<class 'numpy.float64'>'\n",
              "\twith 1627507 stored elements in COOrdinate format>"
            ]
          },
          "metadata": {
            "tags": []
          },
          "execution_count": 81
        }
      ]
    },
    {
      "metadata": {
        "id": "cVPMbz08raJ8",
        "colab_type": "code",
        "colab": {
          "base_uri": "https://localhost:8080/",
          "height": 52
        },
        "outputId": "15cdc323-7545-4ec6-ad9b-b1bc8b03e607"
      },
      "cell_type": "code",
      "source": [
        "td3_train_array = sparse.hstack([td3_vect_title, td3_vect_description, sparse.csr_matrix(td3_price_scaled_data)])\n",
        "td3_train_array"
      ],
      "execution_count": 82,
      "outputs": [
        {
          "output_type": "execute_result",
          "data": {
            "text/plain": [
              "<390839x543943 sparse matrix of type '<class 'numpy.float64'>'\n",
              "\twith 13886974 stored elements in COOrdinate format>"
            ]
          },
          "metadata": {
            "tags": []
          },
          "execution_count": 82
        }
      ]
    },
    {
      "metadata": {
        "id": "4_SVCq51re8r",
        "colab_type": "code",
        "colab": {
          "base_uri": "https://localhost:8080/",
          "height": 52
        },
        "outputId": "9c87498f-881d-48e4-d164-c0af275906b8"
      },
      "cell_type": "code",
      "source": [
        "td4_train_array = sparse.hstack([td4_vect_title, td4_vect_description, sparse.csr_matrix(td4_price_scaled_data)])\n",
        "td4_train_array"
      ],
      "execution_count": 83,
      "outputs": [
        {
          "output_type": "execute_result",
          "data": {
            "text/plain": [
              "<63094x91464 sparse matrix of type '<class 'numpy.float64'>'\n",
              "\twith 1645685 stored elements in COOrdinate format>"
            ]
          },
          "metadata": {
            "tags": []
          },
          "execution_count": 83
        }
      ]
    },
    {
      "metadata": {
        "id": "PP-ZZLHA0q4o",
        "colab_type": "code",
        "colab": {
          "base_uri": "https://localhost:8080/",
          "height": 34
        },
        "outputId": "f7553f2f-0d8d-49a2-bb06-2c446c9be0e8"
      },
      "cell_type": "code",
      "source": [
        "td2_train_y=td2['category_id'].values\n",
        "td2_train_y.shape"
      ],
      "execution_count": 84,
      "outputs": [
        {
          "output_type": "execute_result",
          "data": {
            "text/plain": [
              "(35584,)"
            ]
          },
          "metadata": {
            "tags": []
          },
          "execution_count": 84
        }
      ]
    },
    {
      "metadata": {
        "id": "jPZrvi9LrrJf",
        "colab_type": "code",
        "colab": {
          "base_uri": "https://localhost:8080/",
          "height": 34
        },
        "outputId": "54abc1d2-f7da-49b1-ea97-980eea35fed6"
      },
      "cell_type": "code",
      "source": [
        "td3_train_y=td3['category_id'].values\n",
        "td3_train_y.shape"
      ],
      "execution_count": 85,
      "outputs": [
        {
          "output_type": "execute_result",
          "data": {
            "text/plain": [
              "(390839,)"
            ]
          },
          "metadata": {
            "tags": []
          },
          "execution_count": 85
        }
      ]
    },
    {
      "metadata": {
        "id": "UC1V6MVnruGX",
        "colab_type": "code",
        "colab": {
          "base_uri": "https://localhost:8080/",
          "height": 34
        },
        "outputId": "16a5babb-bdf2-482c-a109-3da93675ab12"
      },
      "cell_type": "code",
      "source": [
        "td4_train_y=td4['category_id'].values\n",
        "td4_train_y.shape"
      ],
      "execution_count": 86,
      "outputs": [
        {
          "output_type": "execute_result",
          "data": {
            "text/plain": [
              "(63094,)"
            ]
          },
          "metadata": {
            "tags": []
          },
          "execution_count": 86
        }
      ]
    },
    {
      "metadata": {
        "id": "NUMwySWY5C0M",
        "colab_type": "code",
        "colab": {
          "base_uri": "https://localhost:8080/",
          "height": 160
        },
        "outputId": "f92b6a6d-6a61-4a32-c09d-7190401a41c0"
      },
      "cell_type": "code",
      "source": [
        "scores = cross_val_score(LogisticRegression(), td2_train_array, y=td2_train_y, scoring='accuracy', cv=3)\n",
        "print('LogisticRegression for 2 level')\n",
        "print('Accuracy={}'.format(np.mean(scores)))\n",
        "print('-------------')"
      ],
      "execution_count": 88,
      "outputs": [
        {
          "output_type": "stream",
          "text": [
            "/usr/local/lib/python3.6/dist-packages/sklearn/linear_model/logistic.py:433: FutureWarning: Default solver will be changed to 'lbfgs' in 0.22. Specify a solver to silence this warning.\n",
            "  FutureWarning)\n",
            "/usr/local/lib/python3.6/dist-packages/sklearn/linear_model/logistic.py:460: FutureWarning: Default multi_class will be changed to 'auto' in 0.22. Specify the multi_class option to silence this warning.\n",
            "  \"this warning.\", FutureWarning)\n"
          ],
          "name": "stderr"
        },
        {
          "output_type": "stream",
          "text": [
            "LogisticRegression for 2 level\n",
            "Accuracy=0.9832228108729119\n",
            "-------------\n"
          ],
          "name": "stdout"
        }
      ]
    },
    {
      "metadata": {
        "id": "jrkdP5I6r-pO",
        "colab_type": "code",
        "colab": {
          "base_uri": "https://localhost:8080/",
          "height": 160
        },
        "outputId": "1f616436-2543-4ec1-a650-45d07455f042"
      },
      "cell_type": "code",
      "source": [
        "scores = cross_val_score(LogisticRegression(), td3_train_array, y=td3_train_y, scoring='accuracy', cv=3)\n",
        "print('LogisticRegression for 3 level')\n",
        "print('Accuracy={}'.format(np.mean(scores)))\n",
        "print('-------------')"
      ],
      "execution_count": 89,
      "outputs": [
        {
          "output_type": "stream",
          "text": [
            "/usr/local/lib/python3.6/dist-packages/sklearn/linear_model/logistic.py:433: FutureWarning: Default solver will be changed to 'lbfgs' in 0.22. Specify a solver to silence this warning.\n",
            "  FutureWarning)\n",
            "/usr/local/lib/python3.6/dist-packages/sklearn/linear_model/logistic.py:460: FutureWarning: Default multi_class will be changed to 'auto' in 0.22. Specify the multi_class option to silence this warning.\n",
            "  \"this warning.\", FutureWarning)\n"
          ],
          "name": "stderr"
        },
        {
          "output_type": "stream",
          "text": [
            "LogisticRegression for 3 level\n",
            "Accuracy=0.8849347813667187\n",
            "-------------\n"
          ],
          "name": "stdout"
        }
      ]
    },
    {
      "metadata": {
        "id": "9LuFhZQLsEs2",
        "colab_type": "code",
        "colab": {
          "base_uri": "https://localhost:8080/",
          "height": 160
        },
        "outputId": "72af0069-4297-48c1-ef1d-eb26bb461408"
      },
      "cell_type": "code",
      "source": [
        "scores = cross_val_score(LogisticRegression(), td4_train_array, y=td4_train_y, scoring='accuracy', cv=3)\n",
        "print('LogisticRegression for 4 level')\n",
        "print('Accuracy={}'.format(np.mean(scores)))\n",
        "print('-------------')"
      ],
      "execution_count": 90,
      "outputs": [
        {
          "output_type": "stream",
          "text": [
            "/usr/local/lib/python3.6/dist-packages/sklearn/linear_model/logistic.py:433: FutureWarning: Default solver will be changed to 'lbfgs' in 0.22. Specify a solver to silence this warning.\n",
            "  FutureWarning)\n",
            "/usr/local/lib/python3.6/dist-packages/sklearn/linear_model/logistic.py:460: FutureWarning: Default multi_class will be changed to 'auto' in 0.22. Specify the multi_class option to silence this warning.\n",
            "  \"this warning.\", FutureWarning)\n"
          ],
          "name": "stderr"
        },
        {
          "output_type": "stream",
          "text": [
            "LogisticRegression for 4 level\n",
            "Accuracy=0.9628649236284911\n",
            "-------------\n"
          ],
          "name": "stdout"
        }
      ]
    }
  ]
}